{
 "cells": [
  {
   "cell_type": "code",
   "execution_count": 24,
   "metadata": {},
   "outputs": [],
   "source": [
    "class Vertex:\n",
    "    def __init__(self, name, source=False, sink=False):\n",
    "        self.name = name\n",
    "        self.source = source\n",
    "        self.sink = sink\n",
    "\n",
    "class Edge:\n",
    "    def __init__(self, start, end, capacity):\n",
    "        self.start = start\n",
    "        self.end = end\n",
    "        self.capacity = capacity\n",
    "        self.flow = 0\n",
    "        self.returnEdge = None\n",
    "\n",
    "class FlowNetwork:\n",
    "    def __init__(self):\n",
    "        self.vertices = []\n",
    "        self.network = {}\n",
    "\n",
    "    def getSource(self):\n",
    "        for vertex in self.vertices:\n",
    "            if vertex.source == True:\n",
    "                return vertex\n",
    "        return None\n",
    "\n",
    "    def getSink(self):\n",
    "        for vertex in self.vertices:\n",
    "            if vertex.sink == True:\n",
    "                return vertex\n",
    "        return None\n",
    "\n",
    "    def getVertex(self, name):\n",
    "        for vertex in self.vertices:\n",
    "            if name == vertex.name:\n",
    "                return vertex\n",
    "\n",
    "    def vertexInNetwork(self, name):\n",
    "        for vertex in self.vertices:\n",
    "            if vertex.name == name:\n",
    "                return True\n",
    "        return False\n",
    "\n",
    "    def getEdges(self):\n",
    "        allEdges = []\n",
    "        for vertex in self.network:\n",
    "            for edge in self.network[vertex]:\n",
    "                allEdges.append(edge)\n",
    "        return allEdges\n",
    "\n",
    "    def addVertex(self, name, source=False, sink=False):\n",
    "        if source == True and sink == True:\n",
    "            return \"Vertex cannot be source and sink\"\n",
    "        if self.vertexInNetwork(name):\n",
    "            return \"Duplicate vertex\"\n",
    "        if source == True:\n",
    "            if self.getSource() != None:\n",
    "                return \"Source already Exists\"\n",
    "        if sink == True:\n",
    "            if self.getSink() != None:\n",
    "                return \"Sink already Exists\"\n",
    "        newVertex = Vertex(name, source, sink)\n",
    "        self.vertices.append(newVertex)\n",
    "        self.network[newVertex.name] = []\n",
    "\n",
    "    def addEdge(self, start, end, capacity):\n",
    "        if start == end:\n",
    "            return \"Cannot have same start and end\"\n",
    "        if self.vertexInNetwork(start) == False:\n",
    "            return \"Start vertex has not been added yet\"\n",
    "        if self.vertexInNetwork(end) == False:\n",
    "            return \"End vertex has not been added yet\"\n",
    "        newEdge = Edge(start, end, capacity)\n",
    "        returnEdge = Edge(end, start, 0)\n",
    "        newEdge.returnEdge = returnEdge\n",
    "        returnEdge.returnEdge = newEdge\n",
    "        vertex = self.getVertex(start)\n",
    "        self.network[vertex.name].append(newEdge)\n",
    "        returnVertex = self.getVertex(end)\n",
    "        self.network[returnVertex.name].append(returnEdge)\n",
    "\n",
    "    def getPath(self, start, end, path):\n",
    "        if start == end:\n",
    "            return path\n",
    "        for edge in self.network[start]:\n",
    "            residualCapacity = edge.capacity - edge.flow\n",
    "            if residualCapacity > 0 and not (edge, residualCapacity) in path:\n",
    "                result = self.getPath(edge.end, end, path + [(edge, residualCapacity)])\n",
    "                if result != None:\n",
    "                    return result\n",
    "\n",
    "    def calculateMaxFlow(self):\n",
    "        source = self.getSource()\n",
    "        sink = self.getSink()\n",
    "        if source == None or sink == None:\n",
    "            return \"Network does not have source and sink\"\n",
    "        path = self.getPath(source.name, sink.name, [])\n",
    "        while path != None:\n",
    "            flow = min(edge[1] for edge in path)\n",
    "            for edge, res in path:\n",
    "                edge.flow += flow\n",
    "                edge.returnEdge.flow -= flow\n",
    "            path = self.getPath(source.name, sink.name, [])\n",
    "        return sum(edge.flow for edge in self.network[source.name])\n"
   ]
  },
  {
   "cell_type": "code",
   "execution_count": 25,
   "metadata": {},
   "outputs": [],
   "source": [
    "fn = FlowNetwork()\n",
    "fn.addVertex('s', True, False)\n",
    "fn.addVertex('t', False, True)\n",
    "fn.addVertex('a')\n",
    "fn.addVertex('b')\n",
    "fn.addVertex('c')\n",
    "fn.addVertex('d')"
   ]
  },
  {
   "cell_type": "code",
   "execution_count": 26,
   "metadata": {},
   "outputs": [],
   "source": [
    "fn.addEdge('s', 'a', 4)\n",
    "fn.addEdge('a', 'b', 4)\n",
    "fn.addEdge('b', 't', 2)\n",
    "fn.addEdge('s', 'c', 3)\n",
    "fn.addEdge('c', 'd', 6)\n",
    "fn.addEdge('d', 't', 6)\n",
    "fn.addEdge('b', 'c', 3)"
   ]
  },
  {
   "cell_type": "code",
   "execution_count": 27,
   "metadata": {},
   "outputs": [
    {
     "data": {
      "text/plain": [
       "['s -> a; 0/4',\n",
       " 's -> c; 0/3',\n",
       " 't -> b; 0/0',\n",
       " 't -> d; 0/0',\n",
       " 'a -> s; 0/0',\n",
       " 'a -> b; 0/4',\n",
       " 'b -> a; 0/0',\n",
       " 'b -> t; 0/2',\n",
       " 'b -> c; 0/3',\n",
       " 'c -> s; 0/0',\n",
       " 'c -> d; 0/6',\n",
       " 'c -> b; 0/0',\n",
       " 'd -> c; 0/0',\n",
       " 'd -> t; 0/6']"
      ]
     },
     "execution_count": 27,
     "metadata": {},
     "output_type": "execute_result"
    }
   ],
   "source": [
    "['%s -> %s; %s/%s' % (e.start, e.end, e.flow, e.capacity) for e in fn.getEdges()]"
   ]
  },
  {
   "cell_type": "code",
   "execution_count": 28,
   "metadata": {},
   "outputs": [
    {
     "data": {
      "text/plain": [
       "7"
      ]
     },
     "execution_count": 28,
     "metadata": {},
     "output_type": "execute_result"
    }
   ],
   "source": [
    "fn.calculateMaxFlow()"
   ]
  },
  {
   "cell_type": "code",
   "execution_count": 29,
   "metadata": {},
   "outputs": [
    {
     "data": {
      "text/plain": [
       "['s -> a; 4/4',\n",
       " 's -> c; 3/3',\n",
       " 't -> b; -2/0',\n",
       " 't -> d; -5/0',\n",
       " 'a -> s; -4/0',\n",
       " 'a -> b; 4/4',\n",
       " 'b -> a; -4/0',\n",
       " 'b -> t; 2/2',\n",
       " 'b -> c; 2/3',\n",
       " 'c -> s; -3/0',\n",
       " 'c -> d; 5/6',\n",
       " 'c -> b; -2/0',\n",
       " 'd -> c; -5/0',\n",
       " 'd -> t; 5/6']"
      ]
     },
     "execution_count": 29,
     "metadata": {},
     "output_type": "execute_result"
    }
   ],
   "source": [
    "['%s -> %s; %s/%s' % (e.start, e.end, e.flow, e.capacity) for e in fn.getEdges()]"
   ]
  },
  {
   "cell_type": "code",
   "execution_count": null,
   "metadata": {},
   "outputs": [],
   "source": []
  }
 ],
 "metadata": {
  "kernelspec": {
   "display_name": "Python 3",
   "language": "python",
   "name": "python3"
  },
  "language_info": {
   "codemirror_mode": {
    "name": "ipython",
    "version": 3
   },
   "file_extension": ".py",
   "mimetype": "text/x-python",
   "name": "python",
   "nbconvert_exporter": "python",
   "pygments_lexer": "ipython3",
   "version": "3.7.3"
  }
 },
 "nbformat": 4,
 "nbformat_minor": 2
}
