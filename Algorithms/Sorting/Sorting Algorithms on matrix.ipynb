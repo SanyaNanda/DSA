{
 "cells": [
  {
   "cell_type": "code",
   "execution_count": 29,
   "metadata": {},
   "outputs": [],
   "source": [
    "import matplotlib.pyplot as plt\n",
    "from matplotlib import colors\n",
    "import numpy as np\n",
    "import random\n",
    "import matplotlib.animation as anim"
   ]
  },
  {
   "cell_type": "code",
   "execution_count": 46,
   "metadata": {},
   "outputs": [],
   "source": [
    "def update_plot(data):\n",
    "    ax.imshow(data, cmap=cmap, norm=norm)\n",
    "    ax.grid(which='major', axis='both', linestyle='-', color='k', linewidth=2)\n",
    "    plt.axis('off')\n",
    "    epochs[0]+=1\n",
    "    text.set_text(\"No.of operations :{}\".format(epochs[0]))"
   ]
  },
  {
   "cell_type": "markdown",
   "metadata": {},
   "source": [
    "### 1. Insertion Sort"
   ]
  },
  {
   "cell_type": "code",
   "execution_count": 2,
   "metadata": {},
   "outputs": [],
   "source": [
    "# insertion sort on a matrix\n",
    "def insertion_sort(arr):\n",
    "    a = len(arr)\n",
    "    n = a**2\n",
    "    arr = np.reshape(arr, (n,))\n",
    "    if(len(arr)==1):\n",
    "        return\n",
    "    for i in range(1,len(arr)):\n",
    "        j = i\n",
    "        while(j>0 and arr[j-1]>arr[j]):\n",
    "            arr[j], arr[j-1] = arr[j-1], arr[j] \n",
    "            j-=1\n",
    "            yield np.reshape(arr, (a,a))"
   ]
  },
  {
   "cell_type": "code",
   "execution_count": 3,
   "metadata": {},
   "outputs": [
    {
     "data": {
      "text/plain": [
       "(-0.5, 3.5, 3.5, -0.5)"
      ]
     },
     "execution_count": 3,
     "metadata": {},
     "output_type": "execute_result"
    },
    {
     "data": {
      "image/png": "[encoded data removed]",
      "text/plain": [
       "<Figure size 432x288 with 1 Axes>"
      ]
     },
     "metadata": {
      "needs_background": "light"
     },
     "output_type": "display_data"
    }
   ],
   "source": [
    "# plotting the matrix to be sorted\n",
    "data = np.random.rand(4, 4) * 20\n",
    "\n",
    "cmap = plt.cm.cool\n",
    "norm = colors.Normalize(vmin=1, vmax=20)\n",
    "\n",
    "fig, ax = plt.subplots()\n",
    "ax.imshow(data, cmap=cmap, norm=norm)\n",
    "\n",
    "ax.grid(which='major', axis='both', linestyle='-', color='k', linewidth=2)\n",
    "plt.axis('off')\n",
    "\n",
    "plt.show()"
   ]
  },
  {
   "cell_type": "code",
   "execution_count": 50,
   "metadata": {},
   "outputs": [],
   "source": [
    "# # creating the sorting animation\n",
    "# fig, ax = plt.subplots()\n",
    "# ax.set_title('insertion sort')\n",
    "# text = ax.text(0.02, -.105, \"\", transform=ax.transAxes)\n",
    "# epochs = [0]\n",
    "# anima = anim.FuncAnimation(fig, func=update_plot,frames=insertion_sort(data), repeat=False)\n",
    "# anima.save('insertion_sort.gif')"
   ]
  },
  {
   "cell_type": "markdown",
   "metadata": {},
   "source": [
    "![insertion_sort](insertion_sort.gif)"
   ]
  },
  {
   "cell_type": "markdown",
   "metadata": {},
   "source": [
    "### Binary Insertion Sort"
   ]
  },
  {
   "cell_type": "code",
   "execution_count": 25,
   "metadata": {},
   "outputs": [
    {
     "data": {
      "text/plain": [
       "[1, 4, 18, 18, 34, 23, 56, 77, 1]"
      ]
     },
     "execution_count": 25,
     "metadata": {},
     "output_type": "execute_result"
    }
   ],
   "source": [
    "def binary_search(arr, key, start, end):\n",
    "    if end - start <= 1:\n",
    "        if key < arr[start]:\n",
    "            return start - 1\n",
    "        else:\n",
    "            return start\n",
    "    mid = (start + end)//2\n",
    "    if arr[mid] < key:\n",
    "        return binary_search(arr, key, mid, end)\n",
    "    elif arr[mid] > key:\n",
    "        return binary_search(arr, key, start, mid)\n",
    "    else:\n",
    "        return mid"
   ]
  },
  {
   "cell_type": "code",
   "execution_count": 30,
   "metadata": {},
   "outputs": [],
   "source": [
    "# binary insertion sort for a matrix\n",
    "def binary_insertion_sort(arr):\n",
    "    a=len(arr)\n",
    "    n=a**2\n",
    "    arr = np.reshape(arr,(n,))\n",
    "    for i in range(1, len(arr)):\n",
    "        temp = arr[i]\n",
    "        pos = binary_search(arr, temp, 0, i) + 1\n",
    "        for k in range(i, pos, -1):\n",
    "            arr[k] = arr[k - 1]\n",
    "            arr[pos] = temp\n",
    "            yield np.reshape(arr, (a,a))"
   ]
  },
  {
   "cell_type": "code",
   "execution_count": 31,
   "metadata": {},
   "outputs": [
    {
     "data": {
      "text/plain": [
       "(-0.5, 3.5, 3.5, -0.5)"
      ]
     },
     "execution_count": 31,
     "metadata": {},
     "output_type": "execute_result"
    },
    {
     "data": {
      "image/png": "[encoded data removed]",
      "text/plain": [
       "<Figure size 432x288 with 1 Axes>"
      ]
     },
     "metadata": {
      "needs_background": "light"
     },
     "output_type": "display_data"
    }
   ],
   "source": [
    "data = np.random.rand(4, 4) * 20\n",
    "\n",
    "cmap = plt.cm.cool\n",
    "norm = colors.Normalize(vmin=1, vmax=20)\n",
    "\n",
    "fig, ax = plt.subplots()\n",
    "ax.imshow(data, cmap=cmap, norm=norm)\n",
    "\n",
    "ax.grid(which='major', axis='both', linestyle='-', color='k', linewidth=2)\n",
    "plt.axis('off')\n",
    "\n",
    "# plt.show()"
   ]
  },
  {
   "cell_type": "code",
   "execution_count": 49,
   "metadata": {},
   "outputs": [],
   "source": [
    "# fig, ax = plt.subplots()\n",
    "# ax.set_title('binary insertion sort')\n",
    "# text = ax.text(0.02, -.105, \"\", transform=ax.transAxes)\n",
    "# epochs = [0]\n",
    "# anima = anim.FuncAnimation(fig, func=update_plot,frames=binary_insertion_sort(data), repeat=False)\n",
    "# anima.save('binary_insertion_sort.gif')"
   ]
  },
  {
   "cell_type": "markdown",
   "metadata": {},
   "source": [
    "![binary_insertion_sort](binary_insertion_sort.gif)"
   ]
  },
  {
   "cell_type": "markdown",
   "metadata": {},
   "source": [
    "### 2. Selection Sort"
   ]
  },
  {
   "cell_type": "code",
   "execution_count": 26,
   "metadata": {},
   "outputs": [],
   "source": [
    "# for matrix\n",
    "def selection_sort(arr):\n",
    "    a = len(arr)\n",
    "    n = a**2\n",
    "    arr = np.reshape(arr, (n,))\n",
    "    for i in range(len(arr)):\n",
    "        min_ind = i\n",
    "        for j in range(i+1, len(arr)):\n",
    "            if arr[min_ind]>arr[j]:\n",
    "                min_ind = j\n",
    "        arr[i], arr[min_ind] = arr[min_ind] , arr[i]\n",
    "        yield np.reshape(arr, (a,a))"
   ]
  },
  {
   "cell_type": "code",
   "execution_count": 27,
   "metadata": {},
   "outputs": [
    {
     "data": {
      "image/png": "[encoded data removed]",
      "text/plain": [
       "<Figure size 432x288 with 1 Axes>"
      ]
     },
     "metadata": {
      "needs_background": "light"
     },
     "output_type": "display_data"
    }
   ],
   "source": [
    "data = np.random.rand(4, 4) * 20\n",
    "\n",
    "cmap = plt.cm.cool\n",
    "norm = colors.Normalize(vmin=1, vmax=25)\n",
    "\n",
    "fig, ax = plt.subplots()\n",
    "ax.imshow(data, cmap=cmap, norm=norm)\n",
    "\n",
    "ax.grid(which='major', axis='both', linestyle='-', color='k', linewidth=2)\n",
    "plt.axis('off')\n",
    "\n",
    "plt.show()"
   ]
  },
  {
   "cell_type": "code",
   "execution_count": 33,
   "metadata": {},
   "outputs": [],
   "source": [
    "# fig, ax = plt.subplots()\n",
    "# ax.set_title('binary insertion sort')\n",
    "# text = ax.text(0.02, -.105, \"\", transform=ax.transAxes)\n",
    "# epochs = [0]\n",
    "# anima = anim.FuncAnimation(fig, func=update_plot,frames=binary_insertion_sort(data), repeat=False)\n",
    "# anima.save('binary_insertion_sort.gif')"
   ]
  },
  {
   "cell_type": "markdown",
   "metadata": {},
   "source": [
    "![selection_sort](selection_sort.gif)"
   ]
  },
  {
   "cell_type": "markdown",
   "metadata": {},
   "source": [
    "### 3. Optimised Bubble Sort"
   ]
  },
  {
   "cell_type": "code",
   "execution_count": 34,
   "metadata": {},
   "outputs": [],
   "source": [
    "def optimised_bubble_sort(arr):\n",
    "    a = len(arr)\n",
    "    n = a**2\n",
    "    arr = np.reshape(arr, (n,))\n",
    "    for i in range(n):\n",
    "        swapped=False\n",
    "        for j in range(n-i-1):\n",
    "            if arr[j]>arr[j+1]:\n",
    "                arr[j], arr[j+1] = arr[j+1], arr[j]\n",
    "                swapped = True\n",
    "                yield np.reshape(arr, (a,a))\n",
    "        if swapped==False:\n",
    "            break"
   ]
  },
  {
   "cell_type": "code",
   "execution_count": 35,
   "metadata": {},
   "outputs": [
    {
     "data": {
      "image/png": "[encoded data removed]",
      "text/plain": [
       "<Figure size 432x288 with 1 Axes>"
      ]
     },
     "metadata": {
      "needs_background": "light"
     },
     "output_type": "display_data"
    }
   ],
   "source": [
    "data = np.random.rand(4, 4) * 20\n",
    "\n",
    "cmap = plt.cm.viridis\n",
    "norm = colors.Normalize(vmin=1, vmax=25)\n",
    "\n",
    "fig, ax = plt.subplots()\n",
    "ax.imshow(data, cmap=cmap, norm=norm)\n",
    "\n",
    "ax.grid(which='major', axis='both', linestyle='-', color='k', linewidth=2)\n",
    "plt.axis('off')\n",
    "\n",
    "plt.show()"
   ]
  },
  {
   "cell_type": "code",
   "execution_count": 48,
   "metadata": {},
   "outputs": [],
   "source": [
    "# fig, ax = plt.subplots()\n",
    "# ax.set_title('Optimised bubble sort')\n",
    "# text = ax.text(0.02, -.105, \"\", transform=ax.transAxes)\n",
    "# epochs = [0]\n",
    "# anima = anim.FuncAnimation(fig, func=update_plot,frames=optimised_bubble_sort(data), repeat=False)\n",
    "# anima.save('optimised_bubble_sort.gif')"
   ]
  },
  {
   "cell_type": "markdown",
   "metadata": {},
   "source": [
    "![optimised_bubble_sort](optimised_bubble_sort.gif)"
   ]
  },
  {
   "cell_type": "markdown",
   "metadata": {},
   "source": [
    "### 4. Counting Sort"
   ]
  },
  {
   "cell_type": "code",
   "execution_count": 45,
   "metadata": {},
   "outputs": [],
   "source": [
    "def countSort(arr):\n",
    "    a = len(arr)\n",
    "    n= a**2\n",
    "    arr = np.reshape(arr, (n,))\n",
    "    m = max(arr)\n",
    "    a=[]\n",
    "    for i in range(m+1):\n",
    "        a.append(arr.count(i))\n",
    "        \n",
    "    for i in range(1,len(a)):\n",
    "        a[i]+=a[i-1]\n",
    "    \n",
    "    o=np.copy(arr)\n",
    "    for i in range(len(arr)):\n",
    "        o[a[arr[i]]-1]=arr[i]\n",
    "        a[arr[i]]-=1\n",
    "        yield np.reshape(o,(a,a))"
   ]
  },
  {
   "cell_type": "markdown",
   "metadata": {},
   "source": [
    "### 5. Radix Sort"
   ]
  },
  {
   "cell_type": "markdown",
   "metadata": {},
   "source": [
    "### 6. Quicksort"
   ]
  },
  {
   "cell_type": "code",
   "execution_count": null,
   "metadata": {},
   "outputs": [],
   "source": [
    "check"
   ]
  },
  {
   "cell_type": "code",
   "execution_count": 37,
   "metadata": {},
   "outputs": [],
   "source": [
    "def partition(arr,low,high):\n",
    "    a = len(arr)\n",
    "    n = a**2\n",
    "    arr = np.reshape(arr, (n,))\n",
    "    i = low-1       \n",
    "    pivot = arr[high]     \n",
    "    for j in range(low , high): \n",
    "        if arr[j] < pivot: \n",
    "            i = i+1 \n",
    "            arr[i],arr[j] = arr[j],arr[i] \n",
    "            arr[i+1],arr[high] = arr[high],arr[i+1] \n",
    "    return i+1\n",
    "\n",
    "def quickSort(arr,low,high): \n",
    "    a = len(arr)\n",
    "    n = a**2\n",
    "    #yield np.reshape(arr, (a,a))\n",
    "    if low < high:  \n",
    "        pi = partition(arr,low,high) \n",
    "        yield np.reshape(arr, (a,a))\n",
    "        quickSort(arr, low, pi-1) \n",
    "        quickSort(arr, pi+1, high) \n",
    "        #yield np.reshape(arr, (a,a))\n",
    "    yield np.reshape(arr, (a,a))"
   ]
  },
  {
   "cell_type": "code",
   "execution_count": 38,
   "metadata": {},
   "outputs": [
    {
     "data": {
      "image/png": "[encoded data removed]",
      "text/plain": [
       "<Figure size 432x288 with 1 Axes>"
      ]
     },
     "metadata": {
      "needs_background": "light"
     },
     "output_type": "display_data"
    }
   ],
   "source": [
    "data = np.random.rand(4, 4) * 20\n",
    "\n",
    "cmap = plt.cm.inferno\n",
    "norm = colors.Normalize(vmin=1, vmax=25)\n",
    "\n",
    "fig, ax = plt.subplots()\n",
    "ax.imshow(data, cmap=cmap, norm=norm)\n",
    "\n",
    "ax.grid(which='major', axis='both', linestyle='-', color='k', linewidth=2)\n",
    "plt.axis('off')\n",
    "\n",
    "plt.show()"
   ]
  },
  {
   "cell_type": "code",
   "execution_count": 40,
   "metadata": {},
   "outputs": [
    {
     "name": "stderr",
     "output_type": "stream",
     "text": [
      "MovieWriter ffmpeg unavailable; using Pillow instead.\n"
     ]
    },
    {
     "data": {
      "image/png": "[encoded data removed]",
      "text/plain": [
       "<Figure size 432x288 with 1 Axes>"
      ]
     },
     "metadata": {
      "needs_background": "light"
     },
     "output_type": "display_data"
    }
   ],
   "source": [
    "fig, ax = plt.subplots()\n",
    "ax.set_title('Quicksort')\n",
    "text = ax.text(0.02, -.105, \"\", transform=ax.transAxes)\n",
    "epochs = [0]\n",
    "anima = anim.FuncAnimation(fig, func=update_plot,frames=quickSort(data,0,len(data)), repeat=False)\n",
    "anima.save('quicksort.gif')"
   ]
  },
  {
   "cell_type": "markdown",
   "metadata": {},
   "source": [
    "### 7. Merge Sort"
   ]
  },
  {
   "cell_type": "code",
   "execution_count": null,
   "metadata": {},
   "outputs": [],
   "source": [
    "check"
   ]
  },
  {
   "cell_type": "code",
   "execution_count": 41,
   "metadata": {},
   "outputs": [],
   "source": [
    "def mergeSort(arr):\n",
    "    a = len(arr)\n",
    "    n = a**2\n",
    "    arr = np.reshape(arr,(n,))\n",
    "    if len(arr) > 1:\n",
    "        mid = len(arr)//2\n",
    "        L = arr[:mid]\n",
    "        R = arr[mid:]\n",
    "        mergeSort(L)\n",
    "        mergeSort(R)\n",
    "        i = j = k = 0\n",
    "        while i < len(L) and j < len(R):\n",
    "            if L[i] < R[j]:\n",
    "                arr[k] = L[i]\n",
    "                i += 1\n",
    "                yield np.reshape(arr, (a,a))\n",
    "            else:\n",
    "                arr[k] = R[j]\n",
    "                j += 1\n",
    "                yield np.reshape(arr, (a,a))\n",
    "            k += 1\n",
    "            \n",
    "        while i < len(L):\n",
    "            arr[k] = L[i]\n",
    "            i += 1\n",
    "            k += 1\n",
    "            yield np.reshape(arr, (a,a))\n",
    " \n",
    "        while j < len(R):\n",
    "            arr[k] = R[j]\n",
    "            j += 1\n",
    "            k += 1\n",
    "            yield np.reshape(arr, (a,a))"
   ]
  },
  {
   "cell_type": "code",
   "execution_count": 42,
   "metadata": {},
   "outputs": [
    {
     "data": {
      "image/png": "[encoded data removed]",
      "text/plain": [
       "<Figure size 432x288 with 1 Axes>"
      ]
     },
     "metadata": {
      "needs_background": "light"
     },
     "output_type": "display_data"
    }
   ],
   "source": [
    "data = np.random.rand(3, 3) * 20\n",
    "\n",
    "cmap = plt.cm.PuOr\n",
    "norm = colors.Normalize(vmin=1, vmax=20)\n",
    "\n",
    "fig, ax = plt.subplots()\n",
    "ax.imshow(data, cmap=cmap, norm=norm)\n",
    "\n",
    "ax.grid(which='major', axis='both', linestyle='-', color='k', linewidth=2)\n",
    "plt.axis('off')\n",
    "\n",
    "plt.show()"
   ]
  },
  {
   "cell_type": "code",
   "execution_count": 47,
   "metadata": {},
   "outputs": [],
   "source": [
    "# fig, ax = plt.subplots()\n",
    "# ax.set_title('Merge sort')\n",
    "# text = ax.text(0.02, -.105, \"\", transform=ax.transAxes)\n",
    "# epochs = [0]\n",
    "# anima = anim.FuncAnimation(fig, func=update_plot,frames=mergeSort(data), repeat=False)\n",
    "# anima.save('merge_sort.gif')"
   ]
  },
  {
   "cell_type": "markdown",
   "metadata": {},
   "source": [
    "![mergesort](merge_sort.gif)"
   ]
  },
  {
   "cell_type": "markdown",
   "metadata": {},
   "source": [
    "### 8. Heap Sort"
   ]
  },
  {
   "cell_type": "code",
   "execution_count": null,
   "metadata": {},
   "outputs": [],
   "source": []
  }
 ],
 "metadata": {
  "kernelspec": {
   "display_name": "Python 3",
   "language": "python",
   "name": "python3"
  },
  "language_info": {
   "codemirror_mode": {
    "name": "ipython",
    "version": 3
   },
   "file_extension": ".py",
   "mimetype": "text/x-python",
   "name": "python",
   "nbconvert_exporter": "python",
   "pygments_lexer": "ipython3",
   "version": "3.8.10"
  }
 },
 "nbformat": 4,
 "nbformat_minor": 2
}
