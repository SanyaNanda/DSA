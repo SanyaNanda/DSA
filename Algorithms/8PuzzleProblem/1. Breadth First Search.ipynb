{
 "cells": [
  {
   "cell_type": "markdown",
   "metadata": {},
   "source": [
    "<h3> <center><ul style=\"list-style-type:none;\">\n",
    "    <li>Name: Sanya Nanda</li>\n",
    "  <li>8 Puzzle Problem</li>\n",
    "  <li>Breadth First Search</li>\n",
    "</ul> </center></h3>"
   ]
  },
  {
   "cell_type": "code",
   "execution_count": 1,
   "metadata": {},
   "outputs": [],
   "source": [
    "import copy"
   ]
  },
  {
   "cell_type": "code",
   "execution_count": 2,
   "metadata": {},
   "outputs": [],
   "source": [
    "# The definition of the movement in the up,down,right,left direction\n",
    "def up(a,row,col):\n",
    "    a[row][col], a[row-1][col] = a[row-1][col], a[row][col]\n",
    "    \n",
    "def down(a,row,col):\n",
    "    a[row][col], a[row+1][col] = a[row+1][col], a[row][col]\n",
    "    \n",
    "def right(a,row,col):\n",
    "    a[row][col], a[row][col+1] = a[row][col+1], a[row][col]\n",
    "    \n",
    "def left(a,row,col):\n",
    "    a[row][col], a[row][col-1] = a[row][col-1], a[row][col]"
   ]
  },
  {
   "cell_type": "code",
   "execution_count": 3,
   "metadata": {},
   "outputs": [],
   "source": [
    "# intialising initial state as 'a' and final state as 'b'\n",
    "a=[[1,2,3],[8,0,4],[7,6,5]]\n",
    "b=[[2,8,1],[0,4,3],[7,6,5]]"
   ]
  },
  {
   "cell_type": "code",
   "execution_count": 4,
   "metadata": {},
   "outputs": [],
   "source": [
    "# function to perform bfs using queue\n",
    "def bfs(a,b):\n",
    "    queue=[]\n",
    "    queue.append(a)\n",
    "    q=queue.pop(0)\n",
    "    order=[]\n",
    "    order.append(('x',a))\n",
    "    while(q!=b):\n",
    "        l=[(index, row.index(0)) for index, row in enumerate(q) if 0 in row]\n",
    "        row=l[0][0]\n",
    "        col=l[0][1]\n",
    "\n",
    "        if row==0:\n",
    "            a1=copy.deepcopy(q)\n",
    "            down(a1,row,col)\n",
    "            queue.append(('d',a1))\n",
    "        elif row==1:\n",
    "            a2=copy.deepcopy(q)\n",
    "            down(a2,row,col)\n",
    "            queue.append(('d',a2))\n",
    "\n",
    "            a3=copy.deepcopy(q)\n",
    "            up(a3,row,col)\n",
    "            queue.append(('u',a3))\n",
    "        else:\n",
    "            a4=copy.deepcopy(q)\n",
    "            up(a4,row,col)\n",
    "            queue.append(('u',a4))\n",
    "\n",
    "        if col==0:\n",
    "            a5=copy.deepcopy(q)\n",
    "            right(a5,row,col)\n",
    "            queue.append(('r',a5))\n",
    "        elif col==1:\n",
    "            a6=copy.deepcopy(q)\n",
    "            right(a6,row,col)\n",
    "            queue.append(('r',a6))\n",
    "\n",
    "            a7=copy.deepcopy(q)\n",
    "            left(a7,row,col)\n",
    "            queue.append(('l',a7))\n",
    "        else:\n",
    "            a8=copy.deepcopy(q)\n",
    "            left(a8,row,col)\n",
    "            queue.append(('l',a8))\n",
    "        \n",
    "        qq=queue.pop(0)\n",
    "        q=qq[1]\n",
    "        order.append(qq)\n",
    "    return order\n"
   ]
  },
  {
   "cell_type": "code",
   "execution_count": 5,
   "metadata": {},
   "outputs": [],
   "source": [
    "# storing the output in a variable and reversing the list for \n",
    "# optimising the solution path by removing redundancies\n",
    "qq=bfs(a,b)\n",
    "qq=qq[::-1]"
   ]
  },
  {
   "cell_type": "code",
   "execution_count": 6,
   "metadata": {},
   "outputs": [
    {
     "data": {
      "text/plain": [
       "16944"
      ]
     },
     "execution_count": 6,
     "metadata": {},
     "output_type": "execute_result"
    }
   ],
   "source": [
    "# total states visited\n",
    "# inclusive of repetitive states\n",
    "# wil be taken care of later\n",
    "len(qq)"
   ]
  },
  {
   "cell_type": "code",
   "execution_count": 7,
   "metadata": {},
   "outputs": [],
   "source": [
    "move=[i for i,j in qq]\n",
    "state=[j for i,j in qq]"
   ]
  },
  {
   "cell_type": "code",
   "execution_count": 8,
   "metadata": {},
   "outputs": [],
   "source": [
    "# path from final state to initial state\n",
    "d=move.pop(0)\n",
    "l=state.pop(0)\n",
    "\n",
    "m=[]\n",
    "m.append(('x',l))\n",
    "while(l!=a):\n",
    "    x=[(index, row.index(0)) for index, row in enumerate(l) if 0 in row]\n",
    "    row=x[0][0]\n",
    "    col=x[0][1]\n",
    "    if d=='d':\n",
    "        up(l,row,col)\n",
    "        m.append(('d',l))\n",
    "    if d=='u':\n",
    "        down(l,row,col)\n",
    "        m.append(('u',l))\n",
    "    if d=='r':\n",
    "        left(l,row,col)\n",
    "        m.append(('r',l))\n",
    "    if d=='l':\n",
    "        right(l,row,col)\n",
    "        m.append(('l',l))\n",
    "    ll=state.index(l)\n",
    "    l=state.pop(ll)\n",
    "    d=move.pop(ll)   "
   ]
  },
  {
   "cell_type": "code",
   "execution_count": 9,
   "metadata": {
    "scrolled": true
   },
   "outputs": [],
   "source": [
    "# path from initial state to final state\n",
    "m = m[::-1]"
   ]
  },
  {
   "cell_type": "code",
   "execution_count": 10,
   "metadata": {},
   "outputs": [],
   "source": [
    "# removing redundancies in the solution path\n",
    "# like l,r together leads no effective change in the state\n",
    "t=[]\n",
    "t.append(len(m))\n",
    "f=False\n",
    "while(f==False):\n",
    "    move=[i for i,j in m]\n",
    "    state=[j for i,j in m]\n",
    "    d=0\n",
    "    n=len(move)\n",
    "    m.clear()\n",
    "    while(d<n-1):\n",
    "        if move[d]=='d' and move[d+1]=='u':\n",
    "            d=d+2\n",
    "\n",
    "        elif move[d]=='u' and move[d+1]=='d':\n",
    "            d=d+2\n",
    "\n",
    "        elif move[d]=='l' and move[d+1]=='r':\n",
    "            d=d+2\n",
    "\n",
    "        elif move[d]=='r' and move[d+1]=='l':\n",
    "            d=d+2\n",
    "\n",
    "        else:\n",
    "            m.append((move[d],state[d]))\n",
    "            d=d+1\n",
    "    m.append((move[d],state[d]))\n",
    "    nx=len(m)\n",
    "    if nx in t:\n",
    "        f=True\n",
    "    else:\n",
    "        t.append(nx)"
   ]
  },
  {
   "cell_type": "code",
   "execution_count": 11,
   "metadata": {},
   "outputs": [],
   "source": [
    "def AlternateList(lst1, lst2):\n",
    "    return [sub[item] for item in range(len(lst2))for sub in [lst1, lst2]]"
   ]
  },
  {
   "cell_type": "code",
   "execution_count": 12,
   "metadata": {
    "scrolled": true
   },
   "outputs": [],
   "source": [
    "m\n",
    "st=[j for i,j in m]\n",
    "mo=[i for i,j in m]\n",
    "mo.pop()\n",
    "l=AlternateList(st,mo)\n",
    "l.append(b)"
   ]
  },
  {
   "cell_type": "code",
   "execution_count": 13,
   "metadata": {},
   "outputs": [
    {
     "name": "stdout",
     "output_type": "stream",
     "text": [
      "[1, 2, 3]\n",
      "[8, 0, 4]\n",
      "[7, 6, 5]\n",
      "\n",
      "u\n",
      "\n",
      "[1, 0, 3]\n",
      "[8, 2, 4]\n",
      "[7, 6, 5]\n",
      "\n",
      "l\n",
      "\n",
      "[0, 1, 3]\n",
      "[8, 2, 4]\n",
      "[7, 6, 5]\n",
      "\n",
      "d\n",
      "\n",
      "[8, 1, 3]\n",
      "[0, 2, 4]\n",
      "[7, 6, 5]\n",
      "\n",
      "r\n",
      "\n",
      "[8, 1, 3]\n",
      "[2, 0, 4]\n",
      "[7, 6, 5]\n",
      "\n",
      "r\n",
      "\n",
      "[8, 1, 3]\n",
      "[2, 4, 0]\n",
      "[7, 6, 5]\n",
      "\n",
      "u\n",
      "\n",
      "[8, 1, 0]\n",
      "[2, 4, 3]\n",
      "[7, 6, 5]\n",
      "\n",
      "l\n",
      "\n",
      "[8, 0, 1]\n",
      "[2, 4, 3]\n",
      "[7, 6, 5]\n",
      "\n",
      "l\n",
      "\n",
      "[0, 8, 1]\n",
      "[2, 4, 3]\n",
      "[7, 6, 5]\n",
      "\n",
      "d\n",
      "\n",
      "[2, 8, 1]\n",
      "[0, 4, 3]\n",
      "[7, 6, 5]\n",
      "\n",
      "Total Moves = 9\n"
     ]
    }
   ],
   "source": [
    "# printing the intermediate states, the moves to get there and the the total number of moves\n",
    "for i in l:\n",
    "    print(*i,sep='\\n',end='\\n\\n')\n",
    "print('Total Moves = {}'.format(len(mo)))   "
   ]
  },
  {
   "cell_type": "code",
   "execution_count": 14,
   "metadata": {
    "scrolled": true
   },
   "outputs": [],
   "source": [
    "# st.append(b)\n",
    "# # visualising the motion from initial to intermediate to final state in form of solution path\n",
    "# %matplotlib notebook\n",
    "# import matplotlib.pyplot as plt\n",
    "# import matplotlib.animation as anim\n",
    "\n",
    "# fig, ax = plt.subplots()\n",
    "# ax.set_title('8 Puzzle Problem by BFS')\n",
    "\n",
    "# epochs = [0]\n",
    "\n",
    "# ann_list = []\n",
    "# f=[0,0,1,2,3,4,5,6,7,8,9,9,9,9,9,9,9]\n",
    "# def update_plot(data):\n",
    "#     for i, a in enumerate(ann_list):\n",
    "#         a.remove()\n",
    "#     ann_list[:] = []\n",
    "    \n",
    "#     ax.matshow(data, cmap=plt.cm.Blues)\n",
    "#     ax.set_xticks([])\n",
    "#     ax.set_yticks([])\n",
    "    \n",
    "#     for i in range(3):\n",
    "#         for j in range(3):\n",
    "#             c = data[j][i]\n",
    "#             ann = ax.annotate(str(c), xy=(i,j),size=20, color='white')\n",
    "#             ann_list.append(ann)  \n",
    "#     ann=ax.annotate('Move {}'.format(f.pop(0)), xy=(1.8,2.4),size=15,color='black')\n",
    "#     ann_list.append(ann)\n",
    "    \n",
    "    \n",
    "            \n",
    "# anima = anim.FuncAnimation(fig,func=update_plot,frames=st,interval=1000,repeat=False)\n",
    "# #anima.save('b2.gif')\n",
    "# plt.show()"
   ]
  },
  {
   "cell_type": "code",
   "execution_count": 15,
   "metadata": {},
   "outputs": [],
   "source": [
    "# gif\n",
    "#![SegmentLocal](b2.gif \"segment\")"
   ]
  }
 ],
 "metadata": {
  "kernelspec": {
   "display_name": "Python 3",
   "language": "python",
   "name": "python3"
  },
  "language_info": {
   "codemirror_mode": {
    "name": "ipython",
    "version": 3
   },
   "file_extension": ".py",
   "mimetype": "text/x-python",
   "name": "python",
   "nbconvert_exporter": "python",
   "pygments_lexer": "ipython3",
   "version": "3.8.10"
  }
 },
 "nbformat": 4,
 "nbformat_minor": 2
}
