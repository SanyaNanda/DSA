{
 "cells": [
  {
   "cell_type": "markdown",
   "metadata": {},
   "source": [
    "<h3> <center><ul style=\"list-style-type:none;\">\n",
    "  <li>Name: Sanya Nanda</li>\n",
    "  <li>8 Puzzle Problem</li>\n",
    "  <li>Hill Climbing Search</li>\n",
    "</ul> </center></h3>"
   ]
  },
  {
   "cell_type": "code",
   "execution_count": 1,
   "metadata": {},
   "outputs": [],
   "source": [
    "import copy"
   ]
  },
  {
   "cell_type": "code",
   "execution_count": 2,
   "metadata": {},
   "outputs": [],
   "source": [
    "# The definition of the movement in the up,down,right,left direction\n",
    "def up(a,row,col):\n",
    "    a[row][col], a[row-1][col] = a[row-1][col], a[row][col]\n",
    "    \n",
    "def down(a,row,col):\n",
    "    a[row][col], a[row+1][col] = a[row+1][col], a[row][col]\n",
    "    \n",
    "def right(a,row,col):\n",
    "    a[row][col], a[row][col+1] = a[row][col+1], a[row][col]\n",
    "    \n",
    "def left(a,row,col):\n",
    "    a[row][col], a[row][col-1] = a[row][col-1], a[row][col]"
   ]
  },
  {
   "cell_type": "code",
   "execution_count": 19,
   "metadata": {},
   "outputs": [],
   "source": [
    "# intialising initial state as 'a' and final state as 'b'\n",
    "a=[[2,0,3],[1,8,4],[7,6,5]]\n",
    "b=[[1,2,3],[8,0,4],[7,6,5]]"
   ]
  },
  {
   "cell_type": "code",
   "execution_count": 20,
   "metadata": {},
   "outputs": [],
   "source": [
    "# The heuristic function:\n",
    "# number of misplaced tiles in the current state n as compared to the goal\n",
    "# node need to be considered as the heuristic function.\n",
    "def heuristic(x,y):\n",
    "    count=0\n",
    "    for i in range(3):\n",
    "        for j in range(3):\n",
    "            if x[i][j]!=y[i][j] and x[i][j]!=0:\n",
    "                count=count+1\n",
    "    return count"
   ]
  },
  {
   "cell_type": "code",
   "execution_count": 21,
   "metadata": {},
   "outputs": [],
   "source": [
    "# function to perform hill climbing search using open priority queue and closed list\n",
    "def hill_climb_search(a,b):\n",
    "    open_queue=[]\n",
    "    open_queue.append(a)\n",
    "    q=open_queue.pop(0)\n",
    "    closed=[]\n",
    "    c=0\n",
    "    c=heuristic(a,b)\n",
    "    closed.append(('x',a,c))\n",
    "    temp='x'\n",
    "    \n",
    "    while(q!=b):\n",
    "        l=[(index, row.index(0)) for index, row in enumerate(q) if 0 in row]\n",
    "        row=l[0][0]\n",
    "        col=l[0][1]\n",
    "        \n",
    "        if q not in closed:\n",
    "            if row==0:\n",
    "                if temp!='u':\n",
    "                    a1=copy.deepcopy(q)\n",
    "                    down(a1,row,col)\n",
    "                    c=heuristic(a1,b)\n",
    "                    open_queue.append(('d',a1,c))\n",
    "            elif row==1:\n",
    "                if temp!='u':\n",
    "                    a2=copy.deepcopy(q)\n",
    "                    down(a2,row,col)\n",
    "                    c=heuristic(a2,b)\n",
    "                    open_queue.append(('d',a2,c))\n",
    "\n",
    "                if temp!='d':\n",
    "                    a3=copy.deepcopy(q)\n",
    "                    up(a3,row,col)\n",
    "                    c=heuristic(a3,b)\n",
    "                    open_queue.append(('u',a3,c))\n",
    "            else:\n",
    "                if temp!='d':\n",
    "                    a4=copy.deepcopy(q)\n",
    "                    up(a4,row,col)\n",
    "                    c=heuristic(a4,b)\n",
    "                    open_queue.append(('u',a4,c))\n",
    "\n",
    "            if col==0:\n",
    "                if temp!='l':\n",
    "                    a5=copy.deepcopy(q)\n",
    "                    right(a5,row,col)\n",
    "                    c=heuristic(a5,b)\n",
    "                    open_queue.append(('r',a5,c))\n",
    "            elif col==1:\n",
    "                if temp!='l':\n",
    "                    a6=copy.deepcopy(q)\n",
    "                    right(a6,row,col)\n",
    "                    c=heuristic(a6,b)\n",
    "                    open_queue.append(('r',a6,c))\n",
    "                if temp!='r':\n",
    "                    a7=copy.deepcopy(q)\n",
    "                    left(a7,row,col)\n",
    "                    c=heuristic(a7,b)\n",
    "                    open_queue.append(('l',a7,c))\n",
    "            else:\n",
    "                if temp!='r':\n",
    "                    a8=copy.deepcopy(q)\n",
    "                    left(a8,row,col)\n",
    "                    c=heuristic(a8,b)\n",
    "                    open_queue.append(('l',a8,c))\n",
    "                \n",
    "        open_queue=sorted(open_queue, key=lambda x:x[-1])\n",
    "        qq=open_queue.pop(0)\n",
    "        q=qq[1]\n",
    "        temp=qq[0]\n",
    "        closed.append(qq)\n",
    "        open_queue.clear()\n",
    "    return closed\n"
   ]
  },
  {
   "cell_type": "code",
   "execution_count": 22,
   "metadata": {},
   "outputs": [],
   "source": [
    "# storing the output in a variable \n",
    "qq=hill_climb_search(a,b)"
   ]
  },
  {
   "cell_type": "code",
   "execution_count": 23,
   "metadata": {},
   "outputs": [
    {
     "data": {
      "text/plain": [
       "[('x', [[2, 0, 3], [1, 8, 4], [7, 6, 5]], 3),\n",
       " ('l', [[0, 2, 3], [1, 8, 4], [7, 6, 5]], 2),\n",
       " ('d', [[1, 2, 3], [0, 8, 4], [7, 6, 5]], 1),\n",
       " ('r', [[1, 2, 3], [8, 0, 4], [7, 6, 5]], 0)]"
      ]
     },
     "execution_count": 23,
     "metadata": {},
     "output_type": "execute_result"
    }
   ],
   "source": [
    "qq"
   ]
  },
  {
   "cell_type": "code",
   "execution_count": 24,
   "metadata": {},
   "outputs": [],
   "source": [
    "def AlternateList(lst1, lst2):\n",
    "    return [sub[item] for item in range(len(lst2))for sub in [lst1, lst2]]"
   ]
  },
  {
   "cell_type": "code",
   "execution_count": 25,
   "metadata": {
    "scrolled": true
   },
   "outputs": [],
   "source": [
    "st=[j for i,j,k in qq]\n",
    "mo=[i for i,j,k in qq]\n",
    "mo.pop(0)\n",
    "l=AlternateList(st,mo)\n",
    "l.append(b)"
   ]
  },
  {
   "cell_type": "code",
   "execution_count": 26,
   "metadata": {},
   "outputs": [
    {
     "name": "stdout",
     "output_type": "stream",
     "text": [
      "[2, 0, 3]\n",
      "[1, 8, 4]\n",
      "[7, 6, 5]\n",
      "\n",
      "l\n",
      "\n",
      "[0, 2, 3]\n",
      "[1, 8, 4]\n",
      "[7, 6, 5]\n",
      "\n",
      "d\n",
      "\n",
      "[1, 2, 3]\n",
      "[0, 8, 4]\n",
      "[7, 6, 5]\n",
      "\n",
      "r\n",
      "\n",
      "[1, 2, 3]\n",
      "[8, 0, 4]\n",
      "[7, 6, 5]\n",
      "\n",
      "Total Moves = 3\n"
     ]
    }
   ],
   "source": [
    "# printing the intermediate states, the moves to get there and the the total number of moves\n",
    "for i in l:\n",
    "    print(*i,sep='\\n',end='\\n\\n')\n",
    "print('Total Moves = {}'.format(len(mo)))   "
   ]
  },
  {
   "cell_type": "code",
   "execution_count": 27,
   "metadata": {},
   "outputs": [
    {
     "name": "stdout",
     "output_type": "stream",
     "text": [
      "[1, 4, 2]\n",
      "[0, 3, 5]\n",
      "[6, 7, 8]\n",
      "\n",
      "r\n",
      "\n",
      "[1, 4, 2]\n",
      "[3, 0, 5]\n",
      "[6, 7, 8]\n",
      "\n",
      "u\n",
      "\n",
      "[1, 0, 2]\n",
      "[3, 4, 5]\n",
      "[6, 7, 8]\n",
      "\n",
      "Total Moves = 2\n"
     ]
    }
   ],
   "source": [
    "a=[[1,4,2],[0,3,5],[6,7,8]]\n",
    "b=[[1,0,2],[3,4,5],[6,7,8]]\n",
    "qq=hill_climb_search(a,b)\n",
    "\n",
    "st=[j for i,j,k in qq]\n",
    "mo=[i for i,j,k in qq]\n",
    "mo.pop(0)\n",
    "l=AlternateList(st,mo)\n",
    "l.append(b)\n",
    "for i in l:\n",
    "    print(*i,sep='\\n',end='\\n\\n')\n",
    "print('Total Moves = {}'.format(len(mo)))"
   ]
  }
 ],
 "metadata": {
  "kernelspec": {
   "display_name": "Python 3",
   "language": "python",
   "name": "python3"
  },
  "language_info": {
   "codemirror_mode": {
    "name": "ipython",
    "version": 3
   },
   "file_extension": ".py",
   "mimetype": "text/x-python",
   "name": "python",
   "nbconvert_exporter": "python",
   "pygments_lexer": "ipython3",
   "version": "3.8.10"
  }
 },
 "nbformat": 4,
 "nbformat_minor": 2
}
