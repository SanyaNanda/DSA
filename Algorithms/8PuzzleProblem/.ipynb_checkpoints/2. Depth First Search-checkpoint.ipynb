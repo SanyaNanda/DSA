{
 "cells": [
  {
   "cell_type": "markdown",
   "metadata": {},
   "source": [
    "<h3> <center><ul style=\"list-style-type:none;\">\n",
    "    <li>Name: Sanya Nanda</li>\n",
    "  <li>8 Puzzle Problem</li>\n",
    "  <li>Depth First Search</li>\n",
    "</ul> </center></h3>"
   ]
  },
  {
   "cell_type": "code",
   "execution_count": 1,
   "metadata": {},
   "outputs": [],
   "source": [
    "import copy"
   ]
  },
  {
   "cell_type": "code",
   "execution_count": 2,
   "metadata": {},
   "outputs": [],
   "source": [
    "# functions for movement of the empty block in all 4 directions\n",
    "def up(a,row,col):\n",
    "    a[row][col], a[row-1][col] = a[row-1][col], a[row][col]\n",
    "    \n",
    "def down(a,row,col):\n",
    "    a[row][col], a[row+1][col] = a[row+1][col], a[row][col]\n",
    "    \n",
    "def right(a,row,col):\n",
    "    a[row][col], a[row][col+1] = a[row][col+1], a[row][col]\n",
    "    \n",
    "def left(a,row,col):\n",
    "    a[row][col], a[row][col-1] = a[row][col-1], a[row][col]"
   ]
  },
  {
   "cell_type": "code",
   "execution_count": 3,
   "metadata": {},
   "outputs": [],
   "source": [
    "# a is initial state and b is final state\n",
    "a=[[1,2,3],[8,0,4],[7,6,5]]\n",
    "b=[[2,8,1],[0,4,3],[7,6,5]]"
   ]
  },
  {
   "cell_type": "code",
   "execution_count": 4,
   "metadata": {},
   "outputs": [],
   "source": [
    "# dfs\n",
    "# logic: stored depthwise options in a stack\n",
    "# kept a check of the visited states\n",
    "# searched till a depth of 10\n",
    "\n",
    "def dfs(a,b):\n",
    "    stack=[]\n",
    "    stack.append(a)\n",
    "    q=stack.pop()\n",
    "    order=[]\n",
    "    visited=[]\n",
    "    visited.append((a))\n",
    "    order.append(('x',a,0))\n",
    "    temp='x'\n",
    "    qq=a\n",
    "\n",
    "    d=0\n",
    "\n",
    "    while(q!=b):\n",
    "        l=[(index, row.index(0)) for index, row in enumerate(q) if 0 in row]\n",
    "        row=l[0][0]\n",
    "        col=l[0][1]\n",
    "\n",
    "        if qq[1] not in visited and (d<10):  \n",
    "            visited.append(qq[1])\n",
    "            d=d+1\n",
    "            if col==0:\n",
    "                if temp!='l':\n",
    "                    a5=copy.deepcopy(q)\n",
    "                    right(a5,row,col)\n",
    "                    if a5 not in visited:\n",
    "                        stack.append(('r',a5,d))\n",
    "                        #visited.append(a5)\n",
    "            elif col==1:\n",
    "                if temp!='l':\n",
    "                    a6=copy.deepcopy(q)\n",
    "                    right(a6,row,col)\n",
    "                    if a6 not in visited:\n",
    "                        stack.append(('r',a6,d))\n",
    "                if temp!='r':\n",
    "                    a7=copy.deepcopy(q)\n",
    "                    left(a7,row,col)\n",
    "                    if a7 not in visited:\n",
    "                        stack.append(('l',a7,d))\n",
    "            else:\n",
    "                if temp!='r':\n",
    "                    a8=copy.deepcopy(q)\n",
    "                    left(a8,row,col)\n",
    "                    if a8 not in visited:\n",
    "                        stack.append(('l',a8,d))\n",
    "\n",
    "            if row==0:\n",
    "                if temp!='u':\n",
    "                    a1=copy.deepcopy(q)\n",
    "                    down(a1,row,col)\n",
    "                    if a1 not in visited:\n",
    "                        stack.append(('d',a1,d))\n",
    "            elif row==1:\n",
    "                if temp!='u':\n",
    "                    a2=copy.deepcopy(q)\n",
    "                    down(a2,row,col)\n",
    "                    if a2 not in visited:\n",
    "                        stack.append(('d',a2,d))\n",
    "                if temp!='d':\n",
    "                    a3=copy.deepcopy(q)\n",
    "                    up(a3,row,col)\n",
    "                    if a3 not in visited:\n",
    "                        stack.append(('u',a3,d))\n",
    "            else:\n",
    "                if temp!='d':\n",
    "                    a4=copy.deepcopy(q)\n",
    "                    up(a4,row,col)\n",
    "                    if a4 not in visited:\n",
    "                        stack.append(('u',a4,d))\n",
    "\n",
    "        qq=stack.pop()\n",
    "        q=qq[1]\n",
    "        temp=qq[0]\n",
    "        d=qq[2]\n",
    "\n",
    "        order.append(qq)\n",
    "    order.append(('x',b,1))\n",
    "    return order\n"
   ]
  },
  {
   "cell_type": "code",
   "execution_count": 5,
   "metadata": {
    "scrolled": true
   },
   "outputs": [],
   "source": [
    "# storing the output list of dfs in a variable and\n",
    "# reversing it to find the exact solution path from \n",
    "# final state to initial without redundancies.\n",
    "qq=dfs(a,b)\n",
    "qq=qq[::-1]"
   ]
  },
  {
   "cell_type": "code",
   "execution_count": 6,
   "metadata": {},
   "outputs": [
    {
     "data": {
      "text/plain": [
       "130"
      ]
     },
     "execution_count": 6,
     "metadata": {},
     "output_type": "execute_result"
    }
   ],
   "source": [
    "# total number of states visited to reach the final state\n",
    "len(qq)"
   ]
  },
  {
   "cell_type": "code",
   "execution_count": 7,
   "metadata": {},
   "outputs": [],
   "source": [
    "move=[i for i,j,k in qq]\n",
    "state=[j for i,j,k in qq]"
   ]
  },
  {
   "cell_type": "code",
   "execution_count": 8,
   "metadata": {},
   "outputs": [],
   "source": [
    "# finding the optimal solution path\n",
    "d=move.pop(0)\n",
    "l=state.pop(0)\n",
    "\n",
    "m=[]\n",
    "m.append(('x',l))\n",
    "while(l!=a):\n",
    "    x=[(index, row.index(0)) for index, row in enumerate(l) if 0 in row]\n",
    "    row=x[0][0]\n",
    "    col=x[0][1]\n",
    "    if d=='d':\n",
    "        up(l,row,col)\n",
    "        m.append(('d',l))\n",
    "    if d=='u':\n",
    "        down(l,row,col)\n",
    "        m.append(('u',l))\n",
    "    if d=='r':\n",
    "        left(l,row,col)\n",
    "        m.append(('r',l))\n",
    "    if d=='l':\n",
    "        right(l,row,col)\n",
    "        m.append(('l',l))\n",
    "    ll=state.index(l)\n",
    "    l=state.pop(ll)\n",
    "    d=move.pop(ll)\n",
    "    "
   ]
  },
  {
   "cell_type": "code",
   "execution_count": 9,
   "metadata": {
    "scrolled": true
   },
   "outputs": [
    {
     "data": {
      "text/plain": [
       "[('u', [[1, 2, 3], [8, 0, 4], [7, 6, 5]]),\n",
       " ('l', [[1, 0, 3], [8, 2, 4], [7, 6, 5]]),\n",
       " ('d', [[0, 1, 3], [8, 2, 4], [7, 6, 5]]),\n",
       " ('r', [[8, 1, 3], [0, 2, 4], [7, 6, 5]]),\n",
       " ('r', [[8, 1, 3], [2, 0, 4], [7, 6, 5]]),\n",
       " ('u', [[8, 1, 3], [2, 4, 0], [7, 6, 5]]),\n",
       " ('l', [[8, 1, 0], [2, 4, 3], [7, 6, 5]]),\n",
       " ('l', [[8, 0, 1], [2, 4, 3], [7, 6, 5]]),\n",
       " ('d', [[0, 8, 1], [2, 4, 3], [7, 6, 5]]),\n",
       " ('x', [[2, 8, 1], [0, 4, 3], [7, 6, 5]])]"
      ]
     },
     "execution_count": 9,
     "metadata": {},
     "output_type": "execute_result"
    }
   ],
   "source": [
    "# optimal solution path\n",
    "m = m[::-1]\n",
    "m"
   ]
  },
  {
   "cell_type": "code",
   "execution_count": 10,
   "metadata": {},
   "outputs": [],
   "source": [
    "# printing the intermediate states and the moves done\n",
    "# total number of moves=9\n",
    "\n",
    "def AlternateList(lst1, lst2):\n",
    "    return [sub[item] for item in range(len(lst2))for sub in [lst1, lst2]]"
   ]
  },
  {
   "cell_type": "code",
   "execution_count": 11,
   "metadata": {
    "scrolled": true
   },
   "outputs": [],
   "source": [
    "st=[j for i,j in m]\n",
    "mo=[i for i,j in m]\n",
    "mo.pop()\n",
    "l=AlternateList(st,mo)\n",
    "l.append(b)"
   ]
  },
  {
   "cell_type": "code",
   "execution_count": 12,
   "metadata": {},
   "outputs": [
    {
     "name": "stdout",
     "output_type": "stream",
     "text": [
      "[1, 2, 3]\n",
      "[8, 0, 4]\n",
      "[7, 6, 5]\n",
      "\n",
      "u\n",
      "\n",
      "[1, 0, 3]\n",
      "[8, 2, 4]\n",
      "[7, 6, 5]\n",
      "\n",
      "l\n",
      "\n",
      "[0, 1, 3]\n",
      "[8, 2, 4]\n",
      "[7, 6, 5]\n",
      "\n",
      "d\n",
      "\n",
      "[8, 1, 3]\n",
      "[0, 2, 4]\n",
      "[7, 6, 5]\n",
      "\n",
      "r\n",
      "\n",
      "[8, 1, 3]\n",
      "[2, 0, 4]\n",
      "[7, 6, 5]\n",
      "\n",
      "r\n",
      "\n",
      "[8, 1, 3]\n",
      "[2, 4, 0]\n",
      "[7, 6, 5]\n",
      "\n",
      "u\n",
      "\n",
      "[8, 1, 0]\n",
      "[2, 4, 3]\n",
      "[7, 6, 5]\n",
      "\n",
      "l\n",
      "\n",
      "[8, 0, 1]\n",
      "[2, 4, 3]\n",
      "[7, 6, 5]\n",
      "\n",
      "l\n",
      "\n",
      "[0, 8, 1]\n",
      "[2, 4, 3]\n",
      "[7, 6, 5]\n",
      "\n",
      "d\n",
      "\n",
      "[2, 8, 1]\n",
      "[0, 4, 3]\n",
      "[7, 6, 5]\n",
      "\n",
      "Total Moves = 9\n"
     ]
    }
   ],
   "source": [
    "for i in l:\n",
    "    print(*i,sep='\\n',end='\\n\\n')\n",
    "print('Total Moves = {}'.format(len(mo)))   "
   ]
  },
  {
   "cell_type": "code",
   "execution_count": 13,
   "metadata": {},
   "outputs": [],
   "source": [
    "# st.append(b)\n",
    "# # visualising the motion from initial to intermediate to final state in form of solution path\n",
    "# %matplotlib notebook\n",
    "# import matplotlib.pyplot as plt\n",
    "# import matplotlib.animation as anim\n",
    "\n",
    "# fig, ax = plt.subplots()\n",
    "# ax.set_title('8 Puzzle Problem by DFS')\n",
    "\n",
    "# epochs = [0]\n",
    "\n",
    "# ann_list = []\n",
    "# f=[0,0,1,2,3,4,5,6,7,8,9,9,9,9,9,9,9]\n",
    "# def update_plot(data):\n",
    "#     for i, a in enumerate(ann_list):\n",
    "#         a.remove()\n",
    "#     ann_list[:] = []\n",
    "    \n",
    "#     ax.matshow(data, cmap=plt.cm.Purples)\n",
    "#     ax.set_xticks([])\n",
    "#     ax.set_yticks([])\n",
    "    \n",
    "#     for i in range(3):\n",
    "#         for j in range(3):\n",
    "#             c = data[j][i]\n",
    "#             ann = ax.annotate(str(c), xy=(i,j),size=20, color='white')\n",
    "#             ann_list.append(ann)  \n",
    "#     ann=ax.annotate('Move {}'.format(f.pop(0)), xy=(1.8,2.4),size=15,color='black')\n",
    "#     ann_list.append(ann)\n",
    "    \n",
    "    \n",
    "            \n",
    "# anima = anim.FuncAnimation(fig,func=update_plot,frames=st,interval=1000,repeat=False)\n",
    "# #anima.save('b2.gif')\n",
    "# plt.show()"
   ]
  }
 ],
 "metadata": {
  "kernelspec": {
   "display_name": "Python 3",
   "language": "python",
   "name": "python3"
  },
  "language_info": {
   "codemirror_mode": {
    "name": "ipython",
    "version": 3
   },
   "file_extension": ".py",
   "mimetype": "text/x-python",
   "name": "python",
   "nbconvert_exporter": "python",
   "pygments_lexer": "ipython3",
   "version": "3.8.10"
  }
 },
 "nbformat": 4,
 "nbformat_minor": 2
}
