{
 "cells": [
  {
   "cell_type": "code",
   "execution_count": 19,
   "metadata": {},
   "outputs": [],
   "source": [
    "class Node:\n",
    "    def __init__(self, data):\n",
    "        self.data = data  \n",
    "        self.next = None  \n",
    "\n",
    "class LinkedList:\n",
    "    def __init__(self): \n",
    "        self.head = None\n",
    "        \n",
    "    # Function to insert a new node at the beginning\n",
    "    def push(self, new_data):\n",
    "        new_node = Node(new_data)\n",
    "        new_node.next = self.head\n",
    "        self.head = new_node\n",
    "        \n",
    "    \n",
    "    # Inserts a new node after the given node\n",
    "    def insertAfter(self, prev_node, new_data): \n",
    "        if prev_node is None: \n",
    "            print(\"The given previous node must be in the Linked List.\")\n",
    "            return\n",
    "        new_node = Node(new_data) \n",
    "        new_node.next = prev_node.next\n",
    "        prev_node.next = new_node\n",
    "        \n",
    "\n",
    "    # Appends a new node at the end.\n",
    "    def append(self, new_data):\n",
    "        new_node = Node(new_data)\n",
    "        if self.head is None:\n",
    "            self.head = new_node\n",
    "            return\n",
    "        last = self.head\n",
    "        while (last.next):\n",
    "            last = last.next\n",
    "        last.next =  new_node\n",
    "        \n",
    "    # delete the first occurence of key in linked list\n",
    "    def deleteNode(self, key):\n",
    "        temp = self.head\n",
    "        if (temp is not None):\n",
    "            if (temp.data == key):\n",
    "                self.head = temp.next\n",
    "                temp = None\n",
    "                return\n",
    "            \n",
    "        while(temp is not None):\n",
    "            if temp.data == key:\n",
    "                break\n",
    "            prev = temp\n",
    "            temp = temp.next\n",
    " \n",
    "        if(temp == None):\n",
    "            return\n",
    " \n",
    "        prev.next = temp.next\n",
    "        temp = None\n",
    "        \n",
    "    def search(self, key):\n",
    "        temp = self.head\n",
    "        pos = 1\n",
    "        flag=0\n",
    "        while(temp is not None):\n",
    "            if temp.data == key:\n",
    "                flag=1\n",
    "                break\n",
    "            temp = temp.next\n",
    "            pos=pos+1\n",
    "        if flag==0:\n",
    "            print(\"{} not in Linked List\".format(key))\n",
    "        else:\n",
    "            print(\"{} at position {}\".format(key,pos))\n",
    "        \n",
    "    def printList(self):\n",
    "        temp = self.head\n",
    "        while (temp):\n",
    "            print(\"{}\".format(temp.data), end=\"->\")\n",
    "            temp = temp.next\n",
    "        print(\"Null\")"
   ]
  },
  {
   "cell_type": "markdown",
   "metadata": {},
   "source": [
    "## Insertion"
   ]
  },
  {
   "cell_type": "code",
   "execution_count": 11,
   "metadata": {},
   "outputs": [
    {
     "name": "stdout",
     "output_type": "stream",
     "text": [
      "6->Null\n",
      "7->6->Null\n",
      "1->7->6->Null\n",
      "1->7->6->4->Null\n",
      "1->7->8->6->4->Null\n"
     ]
    }
   ],
   "source": [
    "if __name__=='__main__':\n",
    "    ll = LinkedList()\n",
    "    ll.append(6)\n",
    "    ll.printList()\n",
    "    \n",
    "    ll.push(7);\n",
    "    ll.printList()\n",
    "    \n",
    "    ll.push(1);\n",
    "    ll.printList()\n",
    "    \n",
    "    ll.append(4)\n",
    "    ll.printList()\n",
    "    \n",
    "    ll.insertAfter(ll.head.next, 8)\n",
    "    ll.printList()"
   ]
  },
  {
   "cell_type": "markdown",
   "metadata": {},
   "source": [
    "## Deletion"
   ]
  },
  {
   "cell_type": "code",
   "execution_count": 20,
   "metadata": {},
   "outputs": [
    {
     "name": "stdout",
     "output_type": "stream",
     "text": [
      "Created Linked List: \n",
      "2->3->1->7->Null\n",
      "\n",
      "Linked List after Deletion of 1:\n",
      "2->3->7->Null\n"
     ]
    }
   ],
   "source": [
    "ll = LinkedList()\n",
    "ll.push(7)\n",
    "ll.push(1)\n",
    "ll.push(3)\n",
    "ll.push(2)\n",
    " \n",
    "print (\"Created Linked List: \")\n",
    "ll.printList()\n",
    "ll.deleteNode(1)\n",
    "print (\"\\nLinked List after Deletion of 1:\")\n",
    "ll.printList()"
   ]
  },
  {
   "cell_type": "code",
   "execution_count": 25,
   "metadata": {},
   "outputs": [
    {
     "name": "stdout",
     "output_type": "stream",
     "text": [
      "2 at position 1\n",
      "3 at position 2\n",
      "7 at position 3\n",
      "8 not in Linked List\n"
     ]
    }
   ],
   "source": [
    "ll.search(2)\n",
    "ll.search(3)\n",
    "ll.search(7)\n",
    "ll.search(8)"
   ]
  },
  {
   "cell_type": "code",
   "execution_count": null,
   "metadata": {},
   "outputs": [],
   "source": [
    "    def deleteNode(self, position):\n",
    " \n",
    "        # If linked list is empty\n",
    "        if self.head == None:\n",
    "            return\n",
    " \n",
    "        # Store head node\n",
    "        temp = self.head\n",
    " \n",
    "        # If head needs to be removed\n",
    "        if position == 0:\n",
    "            self.head = temp.next\n",
    "            temp = None\n",
    "            return\n",
    " \n",
    "        # Find previous node of the node to be deleted\n",
    "        for i in range(position -1 ):\n",
    "            temp = temp.next\n",
    "            if temp is None:\n",
    "                break\n",
    " \n",
    "        # If position is more than number of nodes\n",
    "        if temp is None:\n",
    "            return\n",
    "        if temp.next is None:\n",
    "            return\n",
    " \n",
    "        # Node temp.next is the node to be deleted\n",
    "        # store pointer to the next of node to be deleted\n",
    "        next = temp.next.next\n",
    " \n",
    "        # Unlink the node from linked list\n",
    "        temp.next = None\n",
    " \n",
    "        temp.next = next"
   ]
  }
 ],
 "metadata": {
  "kernelspec": {
   "display_name": "Python 3",
   "language": "python",
   "name": "python3"
  },
  "language_info": {
   "codemirror_mode": {
    "name": "ipython",
    "version": 3
   },
   "file_extension": ".py",
   "mimetype": "text/x-python",
   "name": "python",
   "nbconvert_exporter": "python",
   "pygments_lexer": "ipython3",
   "version": "3.7.3"
  }
 },
 "nbformat": 4,
 "nbformat_minor": 2
}
