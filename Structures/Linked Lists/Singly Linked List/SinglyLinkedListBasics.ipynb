{
 "cells": [
  {
   "cell_type": "markdown",
   "metadata": {},
   "source": [
    "### Singly Linked List"
   ]
  },
  {
   "cell_type": "code",
   "execution_count": 107,
   "metadata": {},
   "outputs": [],
   "source": [
    "class Node:\n",
    "    def __init__(self, data):\n",
    "        self.data = data \n",
    "        self.next = None \n",
    "\n",
    "class LinkedList:\n",
    "    def __init__(self):\n",
    "        self.head = None\n",
    "        \n",
    "    '''\n",
    "    Inserting into the Linked List\n",
    "    '''\n",
    "    def push(self, new_data):\n",
    "        '''\n",
    "        inserts new node at the starting index\n",
    "        '''\n",
    "        new_node = Node(new_data)\n",
    "        new_node.next = self.head\n",
    "        self.head = new_node\n",
    "\n",
    "    def insertAfter(self, prev_node, new_data):\n",
    "        '''\n",
    "        inserts after a given node\n",
    "        '''\n",
    "        if prev_node is None:\n",
    "            print(\"The given previous node must be in LinkedList.\")\n",
    "            return\n",
    "\n",
    "        new_node = Node(new_data)\n",
    "        new_node.next = prev_node.next\n",
    "        prev_node.next = new_node\n",
    "\n",
    "    def append(self, new_data):\n",
    "        '''\n",
    "        inserts in the end\n",
    "        '''\n",
    "        new_node = Node(new_data)\n",
    "        if self.head is None:\n",
    "            self.head = new_node\n",
    "            return\n",
    "\n",
    "        last = self.head\n",
    "        while (last.next):\n",
    "            last = last.next\n",
    "        last.next = new_node\n",
    "        \n",
    "    '''\n",
    "    Deletes a given node\n",
    "    '''\n",
    "    def delete(self, old_data):\n",
    "        prev_node = self.head\n",
    "        while(prev_node.next.data!=old_data):\n",
    "            prev_node = prev_node.next\n",
    "        delete_node = prev_node.next\n",
    "        prev_node.next = delete_node.next\n",
    "        delete_node.next = None\n",
    "        del(delete_node)\n",
    "        \n",
    "    '''\n",
    "    Updates dataof a given node\n",
    "    '''\n",
    "    def update(self, old_data, new_data):\n",
    "        prev_node = self.head\n",
    "        while(prev_node.next.data!=old_data):\n",
    "            prev_node = prev_node.next\n",
    "        prev_node.next.data = new_data\n",
    "        \n",
    "            \n",
    "    '''\n",
    "    Display\n",
    "    '''\n",
    "    def printList(self):\n",
    "        '''\n",
    "        prints the linked list\n",
    "        '''\n",
    "        temp = self.head\n",
    "        while(temp):\n",
    "            print(temp.data, end=\"->\")\n",
    "            temp = temp.next\n",
    "            \n",
    "    \n",
    "    '''\n",
    "    reverses the linked list iteratively\n",
    "    '''    \n",
    "    def iterative_reverse(self):\n",
    "        current = self.head\n",
    "        prev = None\n",
    "        while(current):\n",
    "            nex = current.next\n",
    "            current.next = prev\n",
    "            prev = current\n",
    "            current = nex\n",
    "        self.head = prev\n",
    "        \n",
    "    '''\n",
    "    reverses the linked list recursively\n",
    "    '''        \n",
    "    def rec_reverse(self, head):\n",
    "        if head is None or head.next is None:\n",
    "            return head        \n",
    "        rest = self.rec_reverse(head.next)\n",
    "        head.next.next = head\n",
    "        head.next = None\n",
    "        return rest\n",
    "    \n",
    "    '''\n",
    "    reverse in groups of k size\n",
    "    '''\n",
    "    def rev_k(self,head,k):\n",
    "        current = head\n",
    "        prev = None\n",
    "        c=0\n",
    "        while(current and c!=k):\n",
    "            nex = current.next\n",
    "            current.next = prev\n",
    "            prev = current\n",
    "            current = nex\n",
    "            c=c+1\n",
    "               \n",
    "        if nex!=None:\n",
    "            head.next=self.rev_k(nex,k)\n",
    "        return prev\n",
    "        \n",
    "            \n",
    "        "
   ]
  },
  {
   "cell_type": "markdown",
   "metadata": {},
   "source": [
    "#### append"
   ]
  },
  {
   "cell_type": "code",
   "execution_count": 7,
   "metadata": {},
   "outputs": [],
   "source": [
    "ll = LinkedList()\n",
    "ll.append(1)"
   ]
  },
  {
   "cell_type": "code",
   "execution_count": 8,
   "metadata": {},
   "outputs": [
    {
     "name": "stdout",
     "output_type": "stream",
     "text": [
      "1->"
     ]
    }
   ],
   "source": [
    "ll.printList()"
   ]
  },
  {
   "cell_type": "code",
   "execution_count": 9,
   "metadata": {},
   "outputs": [
    {
     "name": "stdout",
     "output_type": "stream",
     "text": [
      "1->2->3->"
     ]
    }
   ],
   "source": [
    "ll.append(2)\n",
    "ll.append(3)\n",
    "ll.printList()"
   ]
  },
  {
   "cell_type": "markdown",
   "metadata": {},
   "source": [
    "#### Push"
   ]
  },
  {
   "cell_type": "code",
   "execution_count": 10,
   "metadata": {},
   "outputs": [
    {
     "name": "stdout",
     "output_type": "stream",
     "text": [
      "4->1->2->3->"
     ]
    }
   ],
   "source": [
    "ll.push(4)\n",
    "ll.printList()"
   ]
  },
  {
   "cell_type": "markdown",
   "metadata": {},
   "source": [
    "#### insert in between"
   ]
  },
  {
   "cell_type": "code",
   "execution_count": 12,
   "metadata": {},
   "outputs": [
    {
     "name": "stdout",
     "output_type": "stream",
     "text": [
      "4->1->5->2->3->"
     ]
    }
   ],
   "source": [
    "ll.insertAfter(ll.head.next,5)\n",
    "ll.printList()"
   ]
  },
  {
   "cell_type": "markdown",
   "metadata": {},
   "source": [
    "#### delete"
   ]
  },
  {
   "cell_type": "code",
   "execution_count": 13,
   "metadata": {},
   "outputs": [
    {
     "name": "stdout",
     "output_type": "stream",
     "text": [
      "4->1->5->2->"
     ]
    }
   ],
   "source": [
    "ll.delete(3)\n",
    "ll.printList()"
   ]
  },
  {
   "cell_type": "code",
   "execution_count": 14,
   "metadata": {},
   "outputs": [
    {
     "name": "stdout",
     "output_type": "stream",
     "text": [
      "4->1->2->"
     ]
    }
   ],
   "source": [
    "ll.delete(5)\n",
    "ll.printList()"
   ]
  },
  {
   "cell_type": "markdown",
   "metadata": {},
   "source": [
    "#### update"
   ]
  },
  {
   "cell_type": "code",
   "execution_count": 15,
   "metadata": {},
   "outputs": [
    {
     "name": "stdout",
     "output_type": "stream",
     "text": [
      "4->1->3->"
     ]
    }
   ],
   "source": [
    "ll.update(2,3)\n",
    "ll.printList()"
   ]
  },
  {
   "cell_type": "markdown",
   "metadata": {},
   "source": [
    "### Q) Write a Program to reverse the Linked List. (Both Iterative and recursive)"
   ]
  },
  {
   "cell_type": "code",
   "execution_count": 64,
   "metadata": {},
   "outputs": [
    {
     "name": "stdout",
     "output_type": "stream",
     "text": [
      "1->2->3->"
     ]
    }
   ],
   "source": [
    "l = LinkedList()\n",
    "l.append(1)\n",
    "l.append(2)\n",
    "l.append(3)\n",
    "l.printList()"
   ]
  },
  {
   "cell_type": "code",
   "execution_count": 65,
   "metadata": {},
   "outputs": [
    {
     "name": "stdout",
     "output_type": "stream",
     "text": [
      "3->2->1->"
     ]
    }
   ],
   "source": [
    "l.iterative_reverse()\n",
    "l.printList()"
   ]
  },
  {
   "cell_type": "code",
   "execution_count": 66,
   "metadata": {},
   "outputs": [],
   "source": [
    "l.head = l.rec_reverse(l.head)"
   ]
  },
  {
   "cell_type": "code",
   "execution_count": 67,
   "metadata": {},
   "outputs": [
    {
     "name": "stdout",
     "output_type": "stream",
     "text": [
      "1->2->3->"
     ]
    }
   ],
   "source": [
    "l.printList()"
   ]
  },
  {
   "cell_type": "code",
   "execution_count": 108,
   "metadata": {},
   "outputs": [],
   "source": [
    "l = LinkedList()\n",
    "l.append(4)\n",
    "l.append(2)\n",
    "l.append(2)\n",
    "l.append(1)\n",
    "l.append(8)\n",
    "l.append(7)\n",
    "l.append(6)\n",
    "l.append(5)"
   ]
  },
  {
   "cell_type": "code",
   "execution_count": 109,
   "metadata": {},
   "outputs": [
    {
     "name": "stdout",
     "output_type": "stream",
     "text": [
      "1->2->2->4->5->6->7->8->"
     ]
    }
   ],
   "source": [
    "l.head = l.rev_k(l.head,4)\n",
    "l.printList()"
   ]
  },
  {
   "cell_type": "code",
   "execution_count": 110,
   "metadata": {},
   "outputs": [
    {
     "name": "stdout",
     "output_type": "stream",
     "text": [
      "1->2->3->4->5->6->7->8->"
     ]
    }
   ],
   "source": [
    "l = LinkedList()\n",
    "l.append(1)\n",
    "l.append(2)\n",
    "l.append(3)\n",
    "l.append(4)\n",
    "l.append(5)\n",
    "l.append(6)\n",
    "l.append(7)\n",
    "l.append(8)\n",
    "l.printList()"
   ]
  },
  {
   "cell_type": "code",
   "execution_count": 111,
   "metadata": {},
   "outputs": [
    {
     "name": "stdout",
     "output_type": "stream",
     "text": [
      "2->1->4->3->6->5->8->7->"
     ]
    }
   ],
   "source": [
    "l.head = l.rev_k(l.head,2)\n",
    "l.printList()"
   ]
  },
  {
   "cell_type": "code",
   "execution_count": null,
   "metadata": {},
   "outputs": [],
   "source": []
  }
 ],
 "metadata": {
  "kernelspec": {
   "display_name": "Python 3",
   "language": "python",
   "name": "python3"
  },
  "language_info": {
   "codemirror_mode": {
    "name": "ipython",
    "version": 3
   },
   "file_extension": ".py",
   "mimetype": "text/x-python",
   "name": "python",
   "nbconvert_exporter": "python",
   "pygments_lexer": "ipython3",
   "version": "3.8.10"
  }
 },
 "nbformat": 4,
 "nbformat_minor": 2
}
