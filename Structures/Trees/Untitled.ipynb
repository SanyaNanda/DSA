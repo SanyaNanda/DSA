{
 "cells": [
  {
   "cell_type": "code",
   "execution_count": 12,
   "metadata": {},
   "outputs": [
    {
     "name": "stdout",
     "output_type": "stream",
     "text": [
      "Inorder traversal \n",
      "4->2->5->1->3->\n",
      "Preorder traversal \n",
      "1->2->4->5->3->\n",
      "Postorder traversal \n",
      "4->5->2->3->1->"
     ]
    }
   ],
   "source": [
    "class Node:\n",
    "    def __init__(self, item):\n",
    "        self.left = None\n",
    "        self.right = None\n",
    "        self.value = item\n",
    "        \n",
    "    def addValue(self,newValue):\n",
    "        if newValue == self.value: \n",
    "            return self\n",
    "        if newValue < self.value:\n",
    "            if self.left : return self.left.addValue(newValue)\n",
    "            self.left = Node(newValue)\n",
    "            return self.left\n",
    "        if self.right : return self.right.addValue(newValue)\n",
    "        self.right = Node(newValue)\n",
    "        return self.right\n",
    "    \n",
    "#     def printTree(self):\n",
    "#         printTree(self,lambda n:(str(n.value),n.left,n.right)) \n",
    "\n",
    "def inorder(root):\n",
    "    if root:\n",
    "        inorder(root.left)\n",
    "        print(str(root.value) + \"->\", end='')\n",
    "        inorder(root.right)\n",
    "\n",
    "def postorder(root):\n",
    "    if root:\n",
    "        postorder(root.left)\n",
    "        postorder(root.right)\n",
    "        print(str(root.value) + \"->\", end='')\n",
    "\n",
    "def preorder(root):\n",
    "    if root:\n",
    "        print(str(root.value) + \"->\", end='')\n",
    "        preorder(root.left)\n",
    "        preorder(root.right)\n",
    "\n",
    "\n",
    "root = Node(1)\n",
    "root.left = Node(2)\n",
    "root.right = Node(3)\n",
    "root.left.left = Node(4)\n",
    "root.left.right = Node(5)\n",
    "\n",
    "print(\"Inorder traversal \")\n",
    "inorder(root)\n",
    "\n",
    "print(\"\\nPreorder traversal \")\n",
    "preorder(root)\n",
    "\n",
    "print(\"\\nPostorder traversal \")\n",
    "postorder(root)"
   ]
  },
  {
   "cell_type": "code",
   "execution_count": 15,
   "metadata": {},
   "outputs": [
    {
     "data": {
      "text/plain": [
       "<__main__.Node at 0x7fe3f46a8fd0>"
      ]
     },
     "execution_count": 15,
     "metadata": {},
     "output_type": "execute_result"
    }
   ],
   "source": [
    "root = Node(80)\n",
    "\n",
    "root.addValue(50)\n",
    "root.addValue(90)\n",
    "root.addValue(10)\n",
    "root.addValue(60)\n",
    "root.addValue(30)\n",
    "root.addValue(70)\n",
    "root.addValue(55)\n",
    "root.addValue(5)\n",
    "root.addValue(35)\n",
    "root.addValue(85)"
   ]
  },
  {
   "cell_type": "code",
   "execution_count": 16,
   "metadata": {},
   "outputs": [
    {
     "name": "stdout",
     "output_type": "stream",
     "text": [
      "5->35->30->10->55->70->60->50->85->90->80->"
     ]
    }
   ],
   "source": [
    "postorder(root)"
   ]
  },
  {
   "cell_type": "code",
   "execution_count": 17,
   "metadata": {},
   "outputs": [
    {
     "name": "stdout",
     "output_type": "stream",
     "text": [
      "Pre order Traversal: 1 2 4 3 \n",
      "In order Traversal: 4 2 1 3 \n",
      "Post order Traversal: 4 2 3 1 "
     ]
    }
   ],
   "source": [
    "# Binary Tree in Python\n",
    "\n",
    "class Node:\n",
    "    def __init__(self, key):\n",
    "        self.left = None\n",
    "        self.right = None\n",
    "        self.val = key\n",
    "\n",
    "    # Traverse preorder\n",
    "    def traversePreOrder(self):\n",
    "        print(self.val, end=' ')\n",
    "        if self.left:\n",
    "            self.left.traversePreOrder()\n",
    "        if self.right:\n",
    "            self.right.traversePreOrder()\n",
    "\n",
    "    # Traverse inorder\n",
    "    def traverseInOrder(self):\n",
    "        if self.left:\n",
    "            self.left.traverseInOrder()\n",
    "        print(self.val, end=' ')\n",
    "        if self.right:\n",
    "            self.right.traverseInOrder()\n",
    "\n",
    "    # Traverse postorder\n",
    "    def traversePostOrder(self):\n",
    "        if self.left:\n",
    "            self.left.traversePostOrder()\n",
    "        if self.right:\n",
    "            self.right.traversePostOrder()\n",
    "        print(self.val, end=' ')\n",
    "\n",
    "\n",
    "root = Node(1)\n",
    "\n",
    "root.left = Node(2)\n",
    "root.right = Node(3)\n",
    "\n",
    "root.left.left = Node(4)\n",
    "\n",
    "print(\"Pre order Traversal: \", end=\"\")\n",
    "root.traversePreOrder()\n",
    "print(\"\\nIn order Traversal: \", end=\"\")\n",
    "root.traverseInOrder()\n",
    "print(\"\\nPost order Traversal: \", end=\"\")\n",
    "root.traversePostOrder()"
   ]
  },
  {
   "cell_type": "code",
   "execution_count": 18,
   "metadata": {},
   "outputs": [
    {
     "name": "stdout",
     "output_type": "stream",
     "text": [
      "The tree is a full binary tree\n"
     ]
    }
   ],
   "source": [
    "# Checking if a binary tree is a full binary tree in Python\n",
    "\n",
    "\n",
    "# Creating a node\n",
    "class Node:\n",
    "\n",
    "    def __init__(self, item):\n",
    "        self.item = item\n",
    "        self.leftChild = None\n",
    "        self.rightChild = None\n",
    "\n",
    "\n",
    "# Checking full binary tree\n",
    "def isFullTree(root):\n",
    "\n",
    "    # Tree empty case\n",
    "    if root is None:\n",
    "        return True\n",
    "\n",
    "    # Checking whether child is present\n",
    "    if root.leftChild is None and root.rightChild is None:\n",
    "        return True\n",
    "\n",
    "    if root.leftChild is not None and root.rightChild is not None:\n",
    "        return (isFullTree(root.leftChild) and isFullTree(root.rightChild))\n",
    "\n",
    "    return False\n",
    "\n",
    "\n",
    "root = Node(1)\n",
    "root.rightChild = Node(3)\n",
    "root.leftChild = Node(2)\n",
    "\n",
    "root.leftChild.leftChild = Node(4)\n",
    "root.leftChild.rightChild = Node(5)\n",
    "root.leftChild.rightChild.leftChild = Node(6)\n",
    "root.leftChild.rightChild.rightChild = Node(7)\n",
    "\n",
    "if isFullTree(root):\n",
    "    print(\"The tree is a full binary tree\")\n",
    "else:\n",
    "    print(\"The tree is not a full binary tree\")\n"
   ]
  },
  {
   "cell_type": "code",
   "execution_count": 19,
   "metadata": {},
   "outputs": [
    {
     "name": "stdout",
     "output_type": "stream",
     "text": [
      "The tree is not a perfect binary tree\n"
     ]
    }
   ],
   "source": [
    "# Checking if a binary tree is a perfect binary tree in Python\n",
    "\n",
    "\n",
    "class newNode:\n",
    "    def __init__(self, k):\n",
    "        self.key = k\n",
    "        self.right = self.left = None\n",
    "\n",
    "\n",
    "# Calculate the depth\n",
    "def calculateDepth(node):\n",
    "    d = 0\n",
    "    while (node is not None):\n",
    "        d += 1\n",
    "        node = node.left\n",
    "    return d\n",
    "\n",
    "\n",
    "# Check if the tree is perfect binary tree\n",
    "def is_perfect(root, d, level=0):\n",
    "\n",
    "    # Check if the tree is empty\n",
    "    if (root is None):\n",
    "        return True\n",
    "\n",
    "    # Check the presence of trees\n",
    "    if (root.left is None and root.right is None):\n",
    "        return (d == level + 1)\n",
    "\n",
    "    if (root.left is None or root.right is None):\n",
    "        return False\n",
    "\n",
    "    return (is_perfect(root.left, d, level + 1) and\n",
    "            is_perfect(root.right, d, level + 1))\n",
    "\n",
    "\n",
    "root = None\n",
    "root = newNode(1)\n",
    "root.left = newNode(2)\n",
    "root.right = newNode(3)\n",
    "root.left.left = newNode(4)\n",
    "root.left.right = newNode(5)\n",
    "\n",
    "if (is_perfect(root, calculateDepth(root))):\n",
    "    print(\"The tree is a perfect binary tree\")\n",
    "else:\n",
    "    print(\"The tree is not a perfect binary tree\")"
   ]
  },
  {
   "cell_type": "code",
   "execution_count": 20,
   "metadata": {},
   "outputs": [
    {
     "name": "stdout",
     "output_type": "stream",
     "text": [
      "The tree is a complete binary tree\n"
     ]
    }
   ],
   "source": [
    "# Checking if a binary tree is a complete binary tree in C\n",
    "\n",
    "\n",
    "class Node:\n",
    "\n",
    "    def __init__(self, item):\n",
    "        self.item = item\n",
    "        self.left = None\n",
    "        self.right = None\n",
    "\n",
    "\n",
    "# Count the number of nodes\n",
    "def count_nodes(root):\n",
    "    if root is None:\n",
    "        return 0\n",
    "    return (1 + count_nodes(root.left) + count_nodes(root.right))\n",
    "\n",
    "\n",
    "# Check if the tree is complete binary tree\n",
    "def is_complete(root, index, numberNodes):\n",
    "\n",
    "    # Check if the tree is empty\n",
    "    if root is None:\n",
    "        return True\n",
    "\n",
    "    if index >= numberNodes:\n",
    "        return False\n",
    "\n",
    "    return (is_complete(root.left, 2 * index + 1, numberNodes)\n",
    "            and is_complete(root.right, 2 * index + 2, numberNodes))\n",
    "\n",
    "\n",
    "root = Node(1)\n",
    "root.left = Node(2)\n",
    "root.right = Node(3)\n",
    "root.left.left = Node(4)\n",
    "root.left.right = Node(5)\n",
    "root.right.left = Node(6)\n",
    "\n",
    "node_count = count_nodes(root)\n",
    "index = 0\n",
    "\n",
    "if is_complete(root, index, node_count):\n",
    "    print(\"The tree is a complete binary tree\")\n",
    "else:\n",
    "    print(\"The tree is not a complete binary tree\")\n"
   ]
  },
  {
   "cell_type": "code",
   "execution_count": null,
   "metadata": {},
   "outputs": [],
   "source": []
  }
 ],
 "metadata": {
  "kernelspec": {
   "display_name": "Python 3",
   "language": "python",
   "name": "python3"
  },
  "language_info": {
   "codemirror_mode": {
    "name": "ipython",
    "version": 3
   },
   "file_extension": ".py",
   "mimetype": "text/x-python",
   "name": "python",
   "nbconvert_exporter": "python",
   "pygments_lexer": "ipython3",
   "version": "3.7.3"
  }
 },
 "nbformat": 4,
 "nbformat_minor": 2
}
