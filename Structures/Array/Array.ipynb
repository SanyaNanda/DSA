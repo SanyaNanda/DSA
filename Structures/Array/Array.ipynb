{
 "cells": [
  {
   "cell_type": "markdown",
   "id": "55f2a33e",
   "metadata": {},
   "source": [
    "## 1. Sum of array"
   ]
  },
  {
   "cell_type": "code",
   "execution_count": 1,
   "id": "c46a4be6",
   "metadata": {},
   "outputs": [
    {
     "name": "stdout",
     "output_type": "stream",
     "text": [
      "23\n"
     ]
    }
   ],
   "source": [
    "l = [4,6,5,8]\n",
    "s = 0\n",
    "for i in l:\n",
    "    s = s + i\n",
    "print(s)"
   ]
  },
  {
   "cell_type": "code",
   "execution_count": 2,
   "id": "42a86bc5",
   "metadata": {},
   "outputs": [
    {
     "data": {
      "text/plain": [
       "23"
      ]
     },
     "execution_count": 2,
     "metadata": {},
     "output_type": "execute_result"
    }
   ],
   "source": [
    "sum(l)"
   ]
  },
  {
   "cell_type": "markdown",
   "id": "1343af86",
   "metadata": {},
   "source": [
    "## 2. Average of array\n"
   ]
  },
  {
   "cell_type": "code",
   "execution_count": 3,
   "id": "cde80317",
   "metadata": {},
   "outputs": [
    {
     "name": "stdout",
     "output_type": "stream",
     "text": [
      "3.0\n"
     ]
    }
   ],
   "source": [
    "l = [2,3,4]\n",
    "s = 0\n",
    "for i in l:\n",
    "    s = s + i\n",
    "print(s/len(l))"
   ]
  },
  {
   "cell_type": "code",
   "execution_count": 4,
   "id": "fad81844",
   "metadata": {},
   "outputs": [
    {
     "data": {
      "text/plain": [
       "3.0"
      ]
     },
     "execution_count": 4,
     "metadata": {},
     "output_type": "execute_result"
    }
   ],
   "source": [
    "average_l = sum(l)/len(l)\n",
    "average_l"
   ]
  },
  {
   "cell_type": "markdown",
   "id": "e0883c5a",
   "metadata": {},
   "source": [
    "## 3. Min and Max\n"
   ]
  },
  {
   "cell_type": "code",
   "execution_count": 5,
   "id": "817d511f",
   "metadata": {},
   "outputs": [],
   "source": [
    "l = [1,2,3,4,5]"
   ]
  },
  {
   "cell_type": "code",
   "execution_count": 6,
   "id": "07739c2e",
   "metadata": {},
   "outputs": [
    {
     "name": "stdout",
     "output_type": "stream",
     "text": [
      "5\n",
      "1\n"
     ]
    }
   ],
   "source": [
    "Min = l[0]\n",
    "Max = l[0]\n",
    "for i in l:\n",
    "    if i > Max:\n",
    "        Max = i\n",
    "    if i < Min:\n",
    "        Min = i\n",
    "print(Max)\n",
    "print(Min)"
   ]
  },
  {
   "cell_type": "code",
   "execution_count": 7,
   "id": "98dbfdb3",
   "metadata": {},
   "outputs": [
    {
     "data": {
      "text/plain": [
       "1"
      ]
     },
     "execution_count": 7,
     "metadata": {},
     "output_type": "execute_result"
    }
   ],
   "source": [
    "min(l)"
   ]
  },
  {
   "cell_type": "code",
   "execution_count": 8,
   "id": "fa79f5cf",
   "metadata": {},
   "outputs": [
    {
     "data": {
      "text/plain": [
       "5"
      ]
     },
     "execution_count": 8,
     "metadata": {},
     "output_type": "execute_result"
    }
   ],
   "source": [
    "max(l)"
   ]
  },
  {
   "cell_type": "markdown",
   "id": "6b1a2496",
   "metadata": {},
   "source": [
    "## 4. Insertion"
   ]
  },
  {
   "cell_type": "code",
   "execution_count": null,
   "id": "d532cf71",
   "metadata": {},
   "outputs": [],
   "source": []
  },
  {
   "cell_type": "markdown",
   "id": "856f4345",
   "metadata": {},
   "source": [
    "## 5. Reverse\n"
   ]
  },
  {
   "cell_type": "code",
   "execution_count": 9,
   "id": "9099b832",
   "metadata": {},
   "outputs": [],
   "source": [
    "l =[1,2,3,4]"
   ]
  },
  {
   "cell_type": "code",
   "execution_count": 10,
   "id": "a0ed115c",
   "metadata": {},
   "outputs": [],
   "source": [
    "l.reverse()"
   ]
  },
  {
   "cell_type": "code",
   "execution_count": 11,
   "id": "844446f4",
   "metadata": {},
   "outputs": [
    {
     "data": {
      "text/plain": [
       "[4, 3, 2, 1]"
      ]
     },
     "execution_count": 11,
     "metadata": {},
     "output_type": "execute_result"
    }
   ],
   "source": [
    "l"
   ]
  },
  {
   "cell_type": "code",
   "execution_count": null,
   "id": "57d41153",
   "metadata": {},
   "outputs": [],
   "source": []
  }
 ],
 "metadata": {
  "kernelspec": {
   "display_name": "Python 3",
   "language": "python",
   "name": "python3"
  },
  "language_info": {
   "codemirror_mode": {
    "name": "ipython",
    "version": 3
   },
   "file_extension": ".py",
   "mimetype": "text/x-python",
   "name": "python",
   "nbconvert_exporter": "python",
   "pygments_lexer": "ipython3",
   "version": "3.8.8"
  }
 },
 "nbformat": 4,
 "nbformat_minor": 5
}
