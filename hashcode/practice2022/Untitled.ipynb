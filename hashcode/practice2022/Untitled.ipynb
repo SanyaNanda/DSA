{
 "cells": [
  {
   "cell_type": "code",
   "execution_count": 106,
   "metadata": {},
   "outputs": [],
   "source": [
    "li = [\"a_an_example\", \"b_basic\", \"c_coarse\", \"d_difficult\", \"e_elaborate\"]\n",
    "for x in li:\n",
    "    f = open(\"input_data/{0}.in.txt\".format(x), \"r\")\n",
    "    content = f.read()\n",
    "    content_list = content.splitlines()\n",
    "    f.close()\n",
    "\n",
    "    t = content_list.pop(0)\n",
    "\n",
    "    likes = [content_list[i] for i in range(0, len(content_list), 2)]\n",
    "    dislikes = [content_list[i] for i in range(1, len(content_list), 2)]\n",
    "\n",
    "    def CountFrequency(my_list):\n",
    "        freq = {}\n",
    "        for item in my_list:\n",
    "            if (item in freq):\n",
    "                freq[item] += 1\n",
    "            else:\n",
    "                freq[item] = 1\n",
    "        return freq\n",
    "\n",
    "    L = []\n",
    "    for i in range(len(likes)):\n",
    "        l = likes[i].split()\n",
    "        l.pop(0)\n",
    "        for j in l:\n",
    "            L.append(j)\n",
    "    ins = []\n",
    "    for j in L:\n",
    "        ins.append(j)\n",
    "    L = CountFrequency(L)  \n",
    "\n",
    "    D = []\n",
    "    for i in range(len(dislikes)):\n",
    "        d = dislikes[i].split()\n",
    "        d.pop(0)\n",
    "        for j in d:\n",
    "            D.append(j)\n",
    "\n",
    "    for j in D:\n",
    "        ins.append(j)\n",
    "    D = CountFrequency(D)\n",
    "\n",
    "    ins = set(ins)\n",
    "\n",
    "    L = dict(sorted(L.items(), key=lambda item: item[1], reverse=True))\n",
    "    D = dict(sorted(D.items(), key=lambda item: item[1], reverse=True))\n",
    "\n",
    "    r = []\n",
    "    for i in ins:\n",
    "        if i in D.keys() and i in L.keys():\n",
    "            if L[\"{0}\".format(i)] >= D[\"{0}\".format(i)]:\n",
    "                r.append(i)\n",
    "        elif i in L.keys():\n",
    "            r.append(i)\n",
    "\n",
    "    # I = L-D\n",
    "    # length = len(I)\n",
    "\n",
    "    # I = L-D\n",
    "    length = len(r)\n",
    "\n",
    "    f = open(\"{0}_o1.in.txt\".format(x), \"a\")\n",
    "    r = ' '.join(r)\n",
    "    f.write(\"{} {}\".format(length, r))\n",
    "    f.close()\n"
   ]
  },
  {
   "cell_type": "code",
   "execution_count": 101,
   "metadata": {},
   "outputs": [
    {
     "data": {
      "text/plain": [
       "4289"
      ]
     },
     "execution_count": 101,
     "metadata": {},
     "output_type": "execute_result"
    }
   ],
   "source": [
    "len(r)"
   ]
  },
  {
   "cell_type": "code",
   "execution_count": 103,
   "metadata": {},
   "outputs": [],
   "source": [
    "r = []\n",
    "for i in ins:\n",
    "    if i in D.keys() and i in L.keys():\n",
    "        if L[\"{0}\".format(i)] >= D[\"{0}\".format(i)]:\n",
    "            r.append(i)\n",
    "    elif i in L.keys():\n",
    "        r.append(i)"
   ]
  },
  {
   "cell_type": "code",
   "execution_count": 104,
   "metadata": {},
   "outputs": [
    {
     "data": {
      "text/plain": [
       "7354"
      ]
     },
     "execution_count": 104,
     "metadata": {},
     "output_type": "execute_result"
    }
   ],
   "source": [
    "len(r)"
   ]
  },
  {
   "cell_type": "code",
   "execution_count": 105,
   "metadata": {},
   "outputs": [
    {
     "data": {
      "text/plain": [
       "7354"
      ]
     },
     "execution_count": 105,
     "metadata": {},
     "output_type": "execute_result"
    }
   ],
   "source": [
    "len(set(r))"
   ]
  },
  {
   "cell_type": "code",
   "execution_count": null,
   "metadata": {},
   "outputs": [],
   "source": []
  }
 ],
 "metadata": {
  "kernelspec": {
   "display_name": "Python 3",
   "language": "python",
   "name": "python3"
  },
  "language_info": {
   "codemirror_mode": {
    "name": "ipython",
    "version": 3
   },
   "file_extension": ".py",
   "mimetype": "text/x-python",
   "name": "python",
   "nbconvert_exporter": "python",
   "pygments_lexer": "ipython3",
   "version": "3.8.10"
  }
 },
 "nbformat": 4,
 "nbformat_minor": 4
}
