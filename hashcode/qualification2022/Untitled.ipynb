{
 "cells": [
  {
   "cell_type": "code",
   "execution_count": 1,
   "metadata": {},
   "outputs": [],
   "source": [
    "# li = [\"a_an_example\", \"b_better_start_small\", \"c_collaboration\", \"d_dense_schedule\", \"e_exceptional_skills\", \"f_find_great_mentors\"]\n",
    "# for x in li:\n",
    "#     f = open(\"input_data/{0}.in.txt\".format(x), \"r\")\n",
    "#     content = f.read()\n",
    "#     content_list = content.splitlines()\n",
    "#     f.close()\n",
    "\n",
    "#     t = content_list.pop(0)\n",
    "\n",
    "#     likes = [content_list[i] for i in range(0, len(content_list), 2)]\n",
    "#     dislikes = [content_list[i] for i in range(1, len(content_list), 2)]\n",
    "\n",
    "#     def CountFrequency(my_list):\n",
    "#         freq = {}\n",
    "#         for item in my_list:\n",
    "#             if (item in freq):\n",
    "#                 freq[item] += 1\n",
    "#             else:\n",
    "#                 freq[item] = 1\n",
    "#         return freq\n",
    "\n",
    "#     L = []\n",
    "#     for i in range(len(likes)):\n",
    "#         l = likes[i].split()\n",
    "#         l.pop(0)\n",
    "#         for j in l:\n",
    "#             L.append(j)\n",
    "#     ins = []\n",
    "#     for j in L:\n",
    "#         ins.append(j)\n",
    "#     L = CountFrequency(L)  \n",
    "\n",
    "#     D = []\n",
    "#     for i in range(len(dislikes)):\n",
    "#         d = dislikes[i].split()\n",
    "#         d.pop(0)\n",
    "#         for j in d:\n",
    "#             D.append(j)\n",
    "\n",
    "#     for j in D:\n",
    "#         ins.append(j)\n",
    "#     D = CountFrequency(D)\n",
    "\n",
    "#     ins = set(ins)\n",
    "\n",
    "#     L = dict(sorted(L.items(), key=lambda item: item[1], reverse=True))\n",
    "#     D = dict(sorted(D.items(), key=lambda item: item[1], reverse=True))\n",
    "\n",
    "#     r = []\n",
    "#     for i in ins:\n",
    "#         if i in D.keys() and i in L.keys():\n",
    "#             if L[\"{0}\".format(i)] >= D[\"{0}\".format(i)]:\n",
    "#                 r.append(i)\n",
    "#         elif i in L.keys():\n",
    "#             r.append(i)\n",
    "\n",
    "#     # I = L-D\n",
    "#     # length = len(I)\n",
    "\n",
    "#     # I = L-D\n",
    "#     length = len(r)\n",
    "\n",
    "#     f = open(\"{0}_o1.in.txt\".format(x), \"a\")\n",
    "#     r = ' '.join(r)\n",
    "#     f.write(\"{} {}\".format(length, r))\n",
    "#     f.close()\n"
   ]
  },
  {
   "cell_type": "code",
   "execution_count": 2,
   "metadata": {},
   "outputs": [],
   "source": [
    "f = open(\"input_data/a_an_example.in.txt\", \"r\")\n",
    "content = f.read()\n",
    "content_list = content.splitlines()\n",
    "f.close()\n",
    "content_list"
   ]
  },
  {
   "cell_type": "code",
   "execution_count": 3,
   "metadata": {},
   "outputs": [],
   "source": [
    "t = content_list[0].splitlines()\n",
    "t = t[0].split()"
   ]
  },
  {
   "cell_type": "code",
   "execution_count": 4,
   "metadata": {},
   "outputs": [],
   "source": [
    "contributors = int(t[0])\n",
    "projects = int(t[-1])\n",
    "\n",
    "content_list.pop(0)\n",
    "i = contributors\n",
    "ind = 0\n",
    "c = {}\n",
    "while(i>0):\n",
    "    j = int(content_list[ind].splitlines()[0].split()[-1])\n",
    "    name = content_list[ind].splitlines()[0].split()[0]\n",
    "    y = 1\n",
    "    l = []\n",
    "    while(y<=j):\n",
    "        l.append(content_list[ind + y])\n",
    "        y = y + 1 \n",
    "    c[\"{0}\".format(name)] = l\n",
    "    ind = ind + j + 1\n",
    "    i = i - 1\n",
    "    "
   ]
  },
  {
   "cell_type": "code",
   "execution_count": 5,
   "metadata": {},
   "outputs": [],
   "source": [
    "class project:\n",
    "    def __init__(self, name, D, S, B, R):\n",
    "        self.name = name\n",
    "        self.D = D\n",
    "        self.S = S\n",
    "        self.B = B\n",
    "        self.R = R\n",
    "        \n",
    "    def printt(self):\n",
    "        print(\"name = {} D = {}, S = {}, B = {}, R = {}\".format(self.name, self.D, self.S, self.B, self.R))\n",
    "    \n",
    "    def roles(self):\n",
    "        skill = []\n",
    "        level = []\n",
    "        for i in self.R:\n",
    "            i = i.split()\n",
    "            skill.append(i[0])\n",
    "            level.append(int(i[-1]))\n",
    "        x = zip(skill, level)\n",
    "        return x\n",
    "        "
   ]
  },
  {
   "cell_type": "code",
   "execution_count": 6,
   "metadata": {},
   "outputs": [],
   "source": [
    "p = {}\n",
    "pp = []\n",
    "i = projects\n",
    "while(i>0):\n",
    "    p = content_list[ind].split()\n",
    "    name = p[0]\n",
    "    d = int(p[1])\n",
    "    s = int(p[2])\n",
    "    b = int(p[3])\n",
    "    r = int(p[4])\n",
    "    \n",
    "    y = 1\n",
    "    l = []\n",
    "    while(y<=r):\n",
    "        l.append(content_list[ind + y])\n",
    "        y = y + 1 \n",
    "    P = project(name, d,s,b,l)\n",
    "    pp.append(P)\n",
    "    ind = ind + r + 1\n",
    "    i = i - 1"
   ]
  },
  {
   "cell_type": "code",
   "execution_count": 7,
   "metadata": {},
   "outputs": [
    {
     "name": "stdout",
     "output_type": "stream",
     "text": [
      "name = Logging D = 5, S = 10, B = 5, R = ['C++ 3']\n",
      "name = WebServer D = 7, S = 10, B = 7, R = ['HTML 3', 'C++ 2']\n",
      "name = WebChat D = 10, S = 20, B = 20, R = ['Python 3', 'HTML 3']\n"
     ]
    }
   ],
   "source": [
    "for i in range(len(pp)):\n",
    "    pp[i].printt()"
   ]
  },
  {
   "cell_type": "code",
   "execution_count": 8,
   "metadata": {},
   "outputs": [
    {
     "data": {
      "text/plain": [
       "{'Anna': ['C++ 2'], 'Bob': ['HTML 5', 'CSS 5'], 'Maria': ['Python 3']}"
      ]
     },
     "execution_count": 8,
     "metadata": {},
     "output_type": "execute_result"
    }
   ],
   "source": [
    "c"
   ]
  },
  {
   "cell_type": "code",
   "execution_count": 9,
   "metadata": {},
   "outputs": [
    {
     "name": "stdout",
     "output_type": "stream",
     "text": [
      "name = Logging D = 5, S = 10, B = 5, R = ['C++ 3']\n",
      "name = WebServer D = 7, S = 10, B = 7, R = ['HTML 3', 'C++ 2']\n",
      "name = WebChat D = 10, S = 20, B = 20, R = ['Python 3', 'HTML 3']\n"
     ]
    }
   ],
   "source": [
    "pp.sort(key=lambda x: x.B - x.D)\n",
    "for i in range(len(pp)):\n",
    "    pp[i].printt()"
   ]
  },
  {
   "cell_type": "code",
   "execution_count": 10,
   "metadata": {},
   "outputs": [],
   "source": [
    "for k in c.keys():\n",
    "    skill = []\n",
    "    level = []\n",
    "    for i in c[k]:\n",
    "        i = i.split()\n",
    "        skill.append(i[0])\n",
    "        level.append(int(i[-1]))\n",
    "    x = zip(skill, level)\n",
    "    c[k] = x"
   ]
  },
  {
   "cell_type": "code",
   "execution_count": 11,
   "metadata": {},
   "outputs": [
    {
     "ename": "AttributeError",
     "evalue": "'int' object has no attribute 'append'",
     "output_type": "error",
     "traceback": [
      "\u001b[0;31m---------------------------------------------------------------------------\u001b[0m",
      "\u001b[0;31mAttributeError\u001b[0m                            Traceback (most recent call last)",
      "\u001b[0;32m<ipython-input-11-aa870d8785d2>\u001b[0m in \u001b[0;36m<module>\u001b[0;34m\u001b[0m\n\u001b[1;32m      7\u001b[0m             \u001b[0;32mfor\u001b[0m \u001b[0mii\u001b[0m\u001b[0;34m,\u001b[0m \u001b[0;34m(\u001b[0m\u001b[0ms\u001b[0m\u001b[0;34m,\u001b[0m \u001b[0ml\u001b[0m\u001b[0;34m)\u001b[0m \u001b[0;32min\u001b[0m \u001b[0menumerate\u001b[0m\u001b[0;34m(\u001b[0m\u001b[0mj\u001b[0m\u001b[0;34m)\u001b[0m\u001b[0;34m:\u001b[0m\u001b[0;34m\u001b[0m\u001b[0;34m\u001b[0m\u001b[0m\n\u001b[1;32m      8\u001b[0m                 \u001b[0;32mif\u001b[0m \u001b[0mskill\u001b[0m \u001b[0;32min\u001b[0m \u001b[0ms\u001b[0m \u001b[0;32mand\u001b[0m \u001b[0mlevel\u001b[0m\u001b[0;34m>=\u001b[0m\u001b[0ml\u001b[0m\u001b[0;34m:\u001b[0m\u001b[0;34m\u001b[0m\u001b[0;34m\u001b[0m\u001b[0m\n\u001b[0;32m----> 9\u001b[0;31m                     \u001b[0ml\u001b[0m\u001b[0;34m.\u001b[0m\u001b[0mappend\u001b[0m\u001b[0;34m(\u001b[0m\u001b[0;34m\"{0}\"\u001b[0m\u001b[0;34m.\u001b[0m\u001b[0mformat\u001b[0m\u001b[0;34m(\u001b[0m\u001b[0mik\u001b[0m\u001b[0;34m)\u001b[0m\u001b[0;34m)\u001b[0m\u001b[0;34m\u001b[0m\u001b[0;34m\u001b[0m\u001b[0m\n\u001b[0m\u001b[1;32m     10\u001b[0m     \u001b[0mroles\u001b[0m\u001b[0;34m.\u001b[0m\u001b[0mappend\u001b[0m\u001b[0;34m(\u001b[0m\u001b[0ml\u001b[0m\u001b[0;34m)\u001b[0m\u001b[0;34m\u001b[0m\u001b[0;34m\u001b[0m\u001b[0m\n",
      "\u001b[0;31mAttributeError\u001b[0m: 'int' object has no attribute 'append'"
     ]
    }
   ],
   "source": [
    "roles = []\n",
    "for k in range(len(pp)):\n",
    "    l = []\n",
    "    pe = pp[k].roles()\n",
    "    for i, (skill, level) in enumerate(pe):\n",
    "        for ik,j in c.items():\n",
    "            for ii, (s, l) in enumerate(j):\n",
    "                if skill in s and level>=l:\n",
    "                    l.append(\"{0}\".format(ik))\n",
    "    roles.append(l)"
   ]
  },
  {
   "cell_type": "code",
   "execution_count": 12,
   "metadata": {},
   "outputs": [
    {
     "data": {
      "text/plain": [
       "[]"
      ]
     },
     "execution_count": 12,
     "metadata": {},
     "output_type": "execute_result"
    }
   ],
   "source": [
    "roles"
   ]
  },
  {
   "cell_type": "code",
   "execution_count": null,
   "metadata": {},
   "outputs": [],
   "source": []
  },
  {
   "cell_type": "code",
   "execution_count": null,
   "metadata": {},
   "outputs": [],
   "source": []
  }
 ],
 "metadata": {
  "kernelspec": {
   "display_name": "Python 3",
   "language": "python",
   "name": "python3"
  },
  "language_info": {
   "codemirror_mode": {
    "name": "ipython",
    "version": 3
   },
   "file_extension": ".py",
   "mimetype": "text/x-python",
   "name": "python",
   "nbconvert_exporter": "python",
   "pygments_lexer": "ipython3",
   "version": "3.8.10"
  }
 },
 "nbformat": 4,
 "nbformat_minor": 4
}
